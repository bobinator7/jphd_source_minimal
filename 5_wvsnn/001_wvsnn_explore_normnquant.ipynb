{
 "cells": [
  {
   "cell_type": "code",
   "execution_count": 11,
   "id": "7d464422-7693-4dc9-9478-dd7acd2bab19",
   "metadata": {},
   "outputs": [],
   "source": [
    "#!/usr/bin/env python\n",
    "# coding: utf-8\n",
    "\n",
    "##### libraries\n",
    "## 3rd party\n",
    "from __future__ import print_function\n",
    "import pywt\n",
    "import math\n",
    "import numpy as np\n",
    "import matplotlib.pyplot as plt\n",
    "import copy\n",
    "import pdb\n",
    "import csv\n",
    "from tqdm import tqdm\n",
    "\n",
    "import torch\n",
    "import torch.nn as nn\n",
    "import torch.nn.functional as F\n",
    "import torch.optim as optim\n",
    "from torch.utils.data import Dataset, DataLoader\n",
    "torch.set_default_tensor_type(torch.DoubleTensor)\n",
    "\n",
    "# ignore package deprecation warnings\n",
    "import warnings\n",
    "warnings.filterwarnings(\"ignore\")\n",
    "\n",
    "## custom\n",
    "from utils.data_formatting import HDF5Dataset\n",
    "from utils.common import *"
   ]
  },
  {
   "cell_type": "code",
   "execution_count": 12,
   "id": "4b209415",
   "metadata": {},
   "outputs": [],
   "source": [
    "# import matplotlib.font_manager\n",
    "# from IPython.core.display import HTML\n",
    "\n",
    "# def make_html(fontname):\n",
    "#     return \"<p>{font}: <span style='font-family:{font}; font-size: 24px;'>{font}</p>\".format(font=fontname)\n",
    "\n",
    "# code = \"\\n\".join([make_html(font) for font in sorted(set([f.name for f in matplotlib.font_manager.fontManager.ttflist]))])\n",
    "\n",
    "# HTML(\"<div style='column-count: 2;'>{}</div>\".format(code))"
   ]
  },
  {
   "cell_type": "code",
   "execution_count": 13,
   "id": "07492825-f0ff-4e01-8dec-c13cfa5fbc87",
   "metadata": {},
   "outputs": [],
   "source": [
    "##### parameters\n",
    "val_fold = 4\n",
    "bs = 32\n",
    "b=12"
   ]
  },
  {
   "cell_type": "code",
   "execution_count": 14,
   "id": "e7e42937-33e2-407d-bc42-4367e734048f",
   "metadata": {},
   "outputs": [],
   "source": [
    "dset_train = CINC7Dataset('../data/custom/physionet2017_4classes.hdf5',train=True,transform=DWT(4))\n",
    "dset_val = CINC7Dataset('../data/custom/physionet2017_4classes.hdf5',train=False,transform=DWT(4))\n",
    "\n",
    "dl_train = DataLoader(dset_train, batch_size=bs, shuffle=False, num_workers=0)\n",
    "dl_val = DataLoader(dset_val, batch_size=bs, shuffle=False, num_workers=0)"
   ]
  },
  {
   "cell_type": "code",
   "execution_count": 15,
   "id": "4b2d3089-d7a2-4b3a-8e28-6fce9ec71c4e",
   "metadata": {},
   "outputs": [
    {
     "data": {
      "text/plain": [
       "<All keys matched successfully>"
      ]
     },
     "execution_count": 15,
     "metadata": {},
     "output_type": "execute_result"
    }
   ],
   "source": [
    "##### main code\n",
    "# load networks\n",
    "model_path = f'snn_ref/model_fold{val_fold}.pt'\n",
    "cnn = WVCNN4()\n",
    "cnn.load_state_dict(torch.load(model_path).state_dict(), strict=False)\n",
    "cnn_bninteg = WVCNN4()\n",
    "cnn_bninteg.normed = True\n",
    "cnn_bninteg.load_state_dict(cnn.state_dict())"
   ]
  },
  {
   "cell_type": "code",
   "execution_count": 16,
   "id": "de005105-5feb-431f-8b20-c896d15c06ee",
   "metadata": {},
   "outputs": [
    {
     "name": "stderr",
     "output_type": "stream",
     "text": [
      "100%|██████████| 8528/8528 [00:18<00:00, 473.14it/s]\n"
     ]
    }
   ],
   "source": [
    "#\"\"\"\n",
    "# import and format physionet data\n",
    "data_raw = HDF5Dataset('../data/custom/physionet2017_4classes.hdf5', True)\n",
    "\n",
    "# convert to slicable data\n",
    "ecgs = torch.empty(len(data_raw),18000)\n",
    "dwts = torch.empty(len(data_raw),2,1127)\n",
    "lbls = torch.empty(len(data_raw))\n",
    "for ii,data in enumerate(tqdm(data_raw)):\n",
    "    if len(data[0][0]) >= 18000:\n",
    "        data_in = data[0][:,0:18000]\n",
    "    else:\n",
    "        data_in = torch.zeros((1,18000))\n",
    "        data_in[0,0:len(data[0][0])] = data[0]\n",
    "    ecgs[ii,:] = data_in\n",
    "    dwt_tmp = pywt.wavedec(data_in,'db2',level=4)\n",
    "    dwts[ii,:,:] = torch.tensor(np.concatenate((dwt_tmp[0],dwt_tmp[1]),0))\n",
    "    lbls[ii] = data[1]\n",
    "#\"\"\""
   ]
  },
  {
   "cell_type": "code",
   "execution_count": 17,
   "id": "cfb2f27f-7b07-4362-a04c-ea943bac834d",
   "metadata": {},
   "outputs": [],
   "source": [
    "#\"\"\"\n",
    "# get train/test for normalization\n",
    "fold_idx = split_into_5folds(lbls)\n",
    "train_idx = (fold_idx!=val_fold)\n",
    "val_idx = (fold_idx==val_fold)\n",
    "\n",
    "dwt_val = dwts[val_idx].unsqueeze(1)\n",
    "dwt_train = dwts[train_idx].unsqueeze(1)\n",
    "\n",
    "lbl_val = lbls[val_idx].long()\n",
    "lbl_train = lbls[train_idx].long()\n",
    "#\"\"\""
   ]
  },
  {
   "cell_type": "code",
   "execution_count": 18,
   "id": "3043e7f9-e268-44ed-8512-15744fc0f9f0",
   "metadata": {},
   "outputs": [
    {
     "name": "stderr",
     "output_type": "stream",
     "text": [
      "  1%|          | 2/214 [00:00<00:17, 12.39it/s]"
     ]
    },
    {
     "name": "stdout",
     "output_type": "stream",
     "text": [
      "tensor([[ 3.9823, -2.5904,  1.3450, -2.6394],\n",
      "        [ 1.6625, -1.1305,  0.0781, -0.5590],\n",
      "        [ 2.7647, -1.9413,  1.5864, -2.3459],\n",
      "        [-1.0916,  2.4546,  1.2464, -2.4800],\n",
      "        [-6.4831,  6.2422,  4.1548, -3.5330],\n",
      "        [ 3.3940, -1.9636,  1.2760, -2.6138],\n",
      "        [ 2.8489, -1.6963,  1.2443, -2.3048],\n",
      "        [ 0.7253, -1.7211,  3.9823, -2.7965],\n",
      "        [-1.6297,  2.6756,  1.2523, -2.2148],\n",
      "        [ 3.4396, -2.1567,  1.3556, -2.5755],\n",
      "        [ 3.1832, -2.4899,  0.7178, -1.3202],\n",
      "        [ 1.8077, -0.5990,  0.9713, -2.0974],\n",
      "        [ 0.7826, -0.6839,  2.6665, -2.6246],\n",
      "        [ 2.1624, -1.9558,  0.5401, -0.6635],\n",
      "        [-0.0517, -0.6707,  0.3256,  0.4001],\n",
      "        [ 3.0525, -1.9447,  1.1915, -2.2090],\n",
      "        [-0.9487,  0.5379,  1.4396, -0.9285],\n",
      "        [ 3.7117, -2.6453,  1.4011, -2.3729],\n",
      "        [ 3.9878, -2.5335,  1.8307, -3.1940],\n",
      "        [ 0.4743, -0.0350,  2.2797, -2.5863],\n",
      "        [ 3.5353, -2.2247,  1.5681, -2.7839],\n",
      "        [ 0.1676, -1.4120, -0.4102,  1.7046],\n",
      "        [-0.6209,  1.2076,  1.8401, -2.3228],\n",
      "        [ 3.4907, -2.2632,  1.3242, -2.4626],\n",
      "        [ 4.5678, -3.4745,  1.6681, -2.6388],\n",
      "        [ 4.1964, -2.7046,  1.6386, -3.0391],\n",
      "        [-2.9618,  3.3694,  2.3512, -2.5721],\n",
      "        [ 4.1730, -3.1111,  1.8515, -2.8439],\n",
      "        [ 0.7983,  0.0396,  1.8714, -2.5891],\n",
      "        [-4.8961,  3.0159,  4.5933, -2.4564],\n",
      "        [ 2.4410, -1.7730,  0.8618, -1.4509],\n",
      "        [ 1.8605, -2.0226,  0.2982, -0.0513]])\n"
     ]
    },
    {
     "name": "stderr",
     "output_type": "stream",
     "text": [
      "100%|██████████| 214/214 [00:15<00:00, 13.72it/s]"
     ]
    },
    {
     "name": "stdout",
     "output_type": "stream",
     "text": [
      "Total: 0.8193543553352356, N: 0.9157466292381287, AF: 0.7904191613197327, O: 0.7518972754478455, ACC: 0.8562005277044855\n"
     ]
    },
    {
     "name": "stderr",
     "output_type": "stream",
     "text": [
      "\n"
     ]
    }
   ],
   "source": [
    "# reference cnn\n",
    "cnn.eval()\n",
    "F1t_ref = eval_model(cnn, dl_train)"
   ]
  },
  {
   "cell_type": "code",
   "execution_count": 19,
   "id": "f2b5cab0-a40c-4691-9141-e555f846db23",
   "metadata": {},
   "outputs": [
    {
     "name": "stderr",
     "output_type": "stream",
     "text": [
      "  0%|          | 1/214 [00:00<00:25,  8.44it/s]"
     ]
    },
    {
     "name": "stdout",
     "output_type": "stream",
     "text": [
      "tensor([[ 4.1285, -2.6979,  1.4046, -2.7350],\n",
      "        [ 1.6965, -1.1737,  0.0738, -0.5448],\n",
      "        [ 2.8017, -1.9906,  1.6724, -2.4167],\n",
      "        [-1.2256,  2.6460,  1.3387, -2.6242],\n",
      "        [-6.9312,  6.6343,  4.4496, -3.7523],\n",
      "        [ 3.5037, -2.0247,  1.3318, -2.7151],\n",
      "        [ 2.9243, -1.7413,  1.2975, -2.3855],\n",
      "        [ 0.6537, -1.7793,  4.2351, -2.9101],\n",
      "        [-1.7985,  2.8865,  1.3479, -2.3501],\n",
      "        [ 3.5371, -2.2165,  1.4090, -2.6641],\n",
      "        [ 3.2866, -2.6209,  0.7365, -1.3078],\n",
      "        [ 1.8119, -0.5589,  1.0084, -2.1762],\n",
      "        [ 0.7365, -0.6769,  2.8164, -2.7312],\n",
      "        [ 2.2240, -2.0495,  0.5649, -0.6539],\n",
      "        [-0.1134, -0.7156,  0.3655,  0.4659],\n",
      "        [ 3.1472, -2.0157,  1.2431, -2.2816],\n",
      "        [-1.0870,  0.6095,  1.5176, -0.9358],\n",
      "        [ 3.8247, -2.7628,  1.4768, -2.4421],\n",
      "        [ 4.1131, -2.6183,  1.9171, -3.3181],\n",
      "        [ 0.4018,  0.0250,  2.4162, -2.7055],\n",
      "        [ 3.6430, -2.3017,  1.6427, -2.8863],\n",
      "        [ 0.1385, -1.5487, -0.4438,  1.9076],\n",
      "        [-0.7554,  1.3411,  1.9574, -2.4360],\n",
      "        [ 3.6019, -2.3472,  1.3821, -2.5453],\n",
      "        [ 4.7355, -3.6370,  1.7427, -2.7148],\n",
      "        [ 4.3461, -2.8159,  1.7204, -3.1572],\n",
      "        [-3.2236,  3.6340,  2.5104, -2.7259],\n",
      "        [ 4.3190, -3.2383,  1.9380, -2.9475],\n",
      "        [ 0.7325,  0.1219,  1.9652, -2.6951],\n",
      "        [-5.2884,  3.2078,  4.9345, -2.5822],\n",
      "        [ 2.4913, -1.8454,  0.9011, -1.4661],\n",
      "        [ 1.9027, -2.1530,  0.2891,  0.0493]])\n"
     ]
    },
    {
     "name": "stderr",
     "output_type": "stream",
     "text": [
      "100%|██████████| 214/214 [00:15<00:00, 13.90it/s]"
     ]
    },
    {
     "name": "stdout",
     "output_type": "stream",
     "text": [
      "Total: 0.8192494511604309, N: 0.9170172810554504, AF: 0.7866894006729126, O: 0.7540415525436401, ACC: 0.8569334506009968\n"
     ]
    },
    {
     "name": "stderr",
     "output_type": "stream",
     "text": [
      "\n"
     ]
    }
   ],
   "source": [
    "# reference including batchnormalization in weights and biases\n",
    "cnn_bninteg.eval()\n",
    "cnn_bninteg.update_weights_bn_integration()\n",
    "F1t_trans1 = eval_model(cnn_bninteg, dl_train)"
   ]
  },
  {
   "cell_type": "code",
   "execution_count": 20,
   "id": "9c2363cd-c7c7-4b9a-9b85-b32b589bc752",
   "metadata": {},
   "outputs": [],
   "source": [
    "# save BN integrated model for other conversion methodologies\n",
    "#model_path_bnintegr = f'snn_ref/model_fold{val_fold}_bnintegr.pt'\n",
    "#torch.save(cnn_bninteg, model_path_bnintegr)"
   ]
  },
  {
   "cell_type": "code",
   "execution_count": 21,
   "id": "b101fcd5-48ef-4ae6-a773-c0adc16f5335",
   "metadata": {},
   "outputs": [
    {
     "data": {
      "text/plain": [
       "<All keys matched successfully>"
      ]
     },
     "execution_count": 21,
     "metadata": {},
     "output_type": "execute_result"
    }
   ],
   "source": [
    "# normed model such that input and activations are in [0,1]\n",
    "cnn_normed = WVCNN4()\n",
    "cnn_normed.load_state_dict(cnn_bninteg.state_dict())"
   ]
  },
  {
   "cell_type": "code",
   "execution_count": 22,
   "id": "bfbccfd0-4a6b-4c87-aae6-5308ebb2c8df",
   "metadata": {},
   "outputs": [
    {
     "name": "stdout",
     "output_type": "stream",
     "text": [
      "input: lmbda=0.015740190112859882,dlta=0.4815042797031844\n",
      "conv1: lmbda=0.06884055279420398,dlta=0\n",
      "conv2: lmbda=0.030128361216034467,dlta=0\n",
      "conv3: lmbda=0.10911830024841578,dlta=0\n",
      "conv4: lmbda=0.011991655693616932,dlta=0\n",
      "fc: lmbda=0.034707566470272226,dlta=0\n"
     ]
    }
   ],
   "source": [
    "cnn_normed.calculate_norm_values(dwt_train)\n",
    "cnn_normed.print_norm_values()\n",
    "cnn_normed.update_weights_with_norm_values()"
   ]
  },
  {
   "cell_type": "code",
   "execution_count": 23,
   "id": "75cb95c6",
   "metadata": {},
   "outputs": [],
   "source": [
    "# save input norm vals\n",
    "np.save('snn_ref/model_norm_params.npy', [cnn_normed.input_lmbda, cnn_normed.input_dlta])"
   ]
  },
  {
   "cell_type": "code",
   "execution_count": 24,
   "id": "6a5af203-ebbb-4f63-b7c6-ff39599e2e0a",
   "metadata": {},
   "outputs": [],
   "source": [
    "# prepare dataloader with normalization of input\n",
    "dsetn_train = CINC7Dataset('../data/custom/physionet2017_4classes.hdf5',train=True,transform=DWTnNorm(4,cnn_normed.input_lmbda,cnn_normed.input_dlta,quant=False))\n",
    "dsetn_val = CINC7Dataset('../data/custom/physionet2017_4classes.hdf5',train=False,transform=DWTnNorm(4,cnn_normed.input_lmbda,cnn_normed.input_dlta,quant=False))\n",
    "\n",
    "dln_train = DataLoader(dsetn_train, batch_size=bs, shuffle=False, num_workers=0)\n",
    "dln_val = DataLoader(dsetn_val, batch_size=bs, shuffle=False, num_workers=0)"
   ]
  },
  {
   "cell_type": "code",
   "execution_count": 25,
   "id": "38b6615a-e949-4b20-af3f-5c584e9960c0",
   "metadata": {},
   "outputs": [
    {
     "name": "stderr",
     "output_type": "stream",
     "text": [
      "  1%|          | 2/214 [00:00<00:15, 13.73it/s]"
     ]
    },
    {
     "name": "stdout",
     "output_type": "stream",
     "text": [
      "tensor([[ 0.1433, -0.0936,  0.0488, -0.0949],\n",
      "        [ 0.0589, -0.0407,  0.0026, -0.0189],\n",
      "        [ 0.0972, -0.0691,  0.0580, -0.0839],\n",
      "        [-0.0425,  0.0918,  0.0465, -0.0911],\n",
      "        [-0.2406,  0.2303,  0.1544, -0.1302],\n",
      "        [ 0.1216, -0.0703,  0.0462, -0.0942],\n",
      "        [ 0.1015, -0.0604,  0.0450, -0.0828],\n",
      "        [ 0.0227, -0.0618,  0.1470, -0.1010],\n",
      "        [-0.0624,  0.1002,  0.0468, -0.0816],\n",
      "        [ 0.1228, -0.0769,  0.0489, -0.0925],\n",
      "        [ 0.1141, -0.0910,  0.0256, -0.0454],\n",
      "        [ 0.0629, -0.0194,  0.0350, -0.0755],\n",
      "        [ 0.0256, -0.0235,  0.0977, -0.0948],\n",
      "        [ 0.0772, -0.0711,  0.0196, -0.0227],\n",
      "        [-0.0039, -0.0248,  0.0127,  0.0162],\n",
      "        [ 0.1092, -0.0700,  0.0431, -0.0792],\n",
      "        [-0.0377,  0.0212,  0.0527, -0.0325],\n",
      "        [ 0.1327, -0.0959,  0.0513, -0.0848],\n",
      "        [ 0.1428, -0.0909,  0.0665, -0.1152],\n",
      "        [ 0.0139,  0.0009,  0.0839, -0.0939],\n",
      "        [ 0.1264, -0.0799,  0.0570, -0.1002],\n",
      "        [ 0.0048, -0.0538, -0.0154,  0.0662],\n",
      "        [-0.0262,  0.0465,  0.0679, -0.0845],\n",
      "        [ 0.1250, -0.0815,  0.0480, -0.0883],\n",
      "        [ 0.1644, -0.1262,  0.0605, -0.0942],\n",
      "        [ 0.1508, -0.0977,  0.0597, -0.1096],\n",
      "        [-0.1119,  0.1261,  0.0871, -0.0946],\n",
      "        [ 0.1499, -0.1124,  0.0673, -0.1023],\n",
      "        [ 0.0254,  0.0042,  0.0682, -0.0935],\n",
      "        [-0.1835,  0.1113,  0.1713, -0.0896],\n",
      "        [ 0.0865, -0.0641,  0.0313, -0.0509],\n",
      "        [ 0.0660, -0.0747,  0.0100,  0.0017]])\n"
     ]
    },
    {
     "name": "stderr",
     "output_type": "stream",
     "text": [
      "100%|██████████| 214/214 [00:15<00:00, 13.78it/s]"
     ]
    },
    {
     "name": "stdout",
     "output_type": "stream",
     "text": [
      "Total: 0.8192494511604309, N: 0.9170172810554504, AF: 0.7866894006729126, O: 0.7540415525436401, ACC: 0.8569334506009968\n"
     ]
    },
    {
     "name": "stderr",
     "output_type": "stream",
     "text": [
      "\n"
     ]
    }
   ],
   "source": [
    "cnn_normed.eval()\n",
    "F1t_trans2 = eval_model(cnn_normed, dln_train)"
   ]
  },
  {
   "cell_type": "code",
   "execution_count": 26,
   "id": "e7593d55",
   "metadata": {},
   "outputs": [],
   "source": [
    "# Save final model \n",
    "#model_path_normed = f'snn_ref/model_fold{val_fold}_norm.pt'\n",
    "#torch.save(cnn_normed, model_path_normed)"
   ]
  },
  {
   "cell_type": "code",
   "execution_count": 27,
   "id": "a34ead3e-5258-46bb-9087-753f92ddcd20",
   "metadata": {},
   "outputs": [],
   "source": [
    "# plot weight & bias distribution as preparation for quantization\n",
    "# plt.figure(0,figsize=[25,5])\n",
    "# ax1 = plt.subplot(1, 5, 1)\n",
    "# plt.hist(cnn_normed.conv1.weight.flatten(),range=(-5,5),bins=20)\n",
    "# ax1 = plt.subplot(1, 5, 2)\n",
    "# plt.hist(cnn_normed.conv2.weight.flatten(),range=(-5,5),bins=20)\n",
    "# ax1 = plt.subplot(1, 5, 3)\n",
    "# plt.hist(cnn_normed.conv3.weight.flatten(),range=(-5,5),bins=20)\n",
    "# ax1 = plt.subplot(1, 5, 4)\n",
    "# plt.hist(cnn_normed.conv4.weight.flatten(),range=(-5,5),bins=20)\n",
    "# ax1 = plt.subplot(1, 5, 5)\n",
    "# plt.hist(cnn_normed.fc.weight.flatten(),range=(-5,5),bins=20);"
   ]
  },
  {
   "cell_type": "code",
   "execution_count": 28,
   "id": "010df87e-5b80-4f72-8d8c-6801fa53b5fc",
   "metadata": {},
   "outputs": [],
   "source": [
    "# plt.figure(0,figsize=[25,5])\n",
    "# ax1 = plt.subplot(1, 5, 1)\n",
    "# plt.hist(cnn_normed.conv1.bias.flatten(),range=(-5,5),bins=20)\n",
    "# ax1 = plt.subplot(1, 5, 2)\n",
    "# plt.hist(cnn_normed.conv2.bias.flatten(),range=(-5,5),bins=20)\n",
    "# ax1 = plt.subplot(1, 5, 3)\n",
    "# plt.hist(cnn_normed.conv3.bias.flatten(),range=(-5,5),bins=20)\n",
    "# ax1 = plt.subplot(1, 5, 4)\n",
    "# plt.hist(cnn_normed.conv4.bias.flatten(),range=(-5,5),bins=20)\n",
    "# ax1 = plt.subplot(1, 5, 5)\n",
    "# plt.hist(cnn_normed.fc.bias.flatten(),range=(-5,5),bins=20);"
   ]
  },
  {
   "cell_type": "code",
   "execution_count": 29,
   "id": "9e5f5fb1-18e2-426d-9f25-676786191250",
   "metadata": {},
   "outputs": [],
   "source": [
    "# NN in fixed point only\n",
    "#b=16\n",
    "\n",
    "cnn_quant = WVCNN4()\n",
    "cnn_quant.load_state_dict(cnn_normed.state_dict())\n",
    "#cnn_quant = cnn_normed\n",
    "cnn_quant.update_weights_with_quant(b=b) # number of fractional bits for weights and bias\n",
    "cnn_quant.q_actb = b # number of fractional bits for activations\n",
    "cnn_quant.quantize = True\n",
    "cnn_quant.normed = True"
   ]
  },
  {
   "cell_type": "code",
   "execution_count": 30,
   "id": "24e3f12b-9876-456c-a249-ff871094a9d3",
   "metadata": {},
   "outputs": [
    {
     "name": "stderr",
     "output_type": "stream",
     "text": [
      "  0%|          | 1/214 [00:00<00:23,  9.21it/s]"
     ]
    },
    {
     "name": "stdout",
     "output_type": "stream",
     "text": [
      "tensor([[ 0.1396, -0.0911,  0.0469, -0.0923],\n",
      "        [ 0.0576, -0.0405,  0.0020, -0.0173],\n",
      "        [ 0.0928, -0.0635,  0.0535, -0.0806],\n",
      "        [-0.0413,  0.0913,  0.0447, -0.0903],\n",
      "        [-0.2402,  0.2317,  0.1538, -0.1313],\n",
      "        [ 0.1165, -0.0662,  0.0454, -0.0925],\n",
      "        [ 0.0996, -0.0583,  0.0449, -0.0828],\n",
      "        [ 0.0203, -0.0576,  0.1418, -0.0977],\n",
      "        [-0.0640,  0.1018,  0.0439, -0.0791],\n",
      "        [ 0.1196, -0.0737,  0.0471, -0.0911],\n",
      "        [ 0.1121, -0.0903,  0.0232, -0.0417],\n",
      "        [ 0.0552, -0.0120,  0.0344, -0.0745],\n",
      "        [ 0.0232, -0.0195,  0.0945, -0.0933],\n",
      "        [ 0.0752, -0.0691,  0.0176, -0.0208],\n",
      "        [-0.0042, -0.0234,  0.0105,  0.0168],\n",
      "        [ 0.1062, -0.0674,  0.0425, -0.0784],\n",
      "        [-0.0415,  0.0237,  0.0500, -0.0288],\n",
      "        [ 0.1284, -0.0906,  0.0449, -0.0796],\n",
      "        [ 0.1387, -0.0854,  0.0623, -0.1125],\n",
      "        [ 0.0095,  0.0056,  0.0825, -0.0928],\n",
      "        [ 0.1218, -0.0762,  0.0549, -0.0974],\n",
      "        [ 0.0007, -0.0515, -0.0149,  0.0676],\n",
      "        [-0.0298,  0.0508,  0.0662, -0.0835],\n",
      "        [ 0.1206, -0.0769,  0.0447, -0.0852],\n",
      "        [ 0.1614, -0.1230,  0.0576, -0.0918],\n",
      "        [ 0.1460, -0.0935,  0.0583, -0.1077],\n",
      "        [-0.1113,  0.1262,  0.0854, -0.0938],\n",
      "        [ 0.1465, -0.1086,  0.0659, -0.1016],\n",
      "        [ 0.0198,  0.0107,  0.0662, -0.0923],\n",
      "        [-0.1863,  0.1196,  0.1672, -0.0913],\n",
      "        [ 0.0791, -0.0569,  0.0266, -0.0461],\n",
      "        [ 0.0640, -0.0728,  0.0081,  0.0037]])\n"
     ]
    },
    {
     "name": "stderr",
     "output_type": "stream",
     "text": [
      "100%|██████████| 214/214 [00:16<00:00, 12.78it/s]"
     ]
    },
    {
     "name": "stdout",
     "output_type": "stream",
     "text": [
      "Total: 0.8164928555488586, N: 0.9182478189468384, AF: 0.7816666960716248, O: 0.7495642304420471, ACC: 0.8560539431251832\n"
     ]
    },
    {
     "name": "stderr",
     "output_type": "stream",
     "text": [
      "\n"
     ]
    },
    {
     "data": {
      "text/plain": [
       "(tensor(0.8165, dtype=torch.float32),\n",
       " tensor(0.9182, dtype=torch.float32),\n",
       " tensor(0.7817, dtype=torch.float32),\n",
       " tensor(0.7496, dtype=torch.float32),\n",
       " tensor([0, 0, 0,  ..., 2, 0, 0]))"
      ]
     },
     "execution_count": 30,
     "metadata": {},
     "output_type": "execute_result"
    }
   ],
   "source": [
    "cnn_quant.eval()\n",
    "eval_model(cnn_quant, dln_train)"
   ]
  },
  {
   "cell_type": "code",
   "execution_count": 31,
   "id": "d53896bd-0bf9-43e6-9148-9a331a977a09",
   "metadata": {
    "tags": []
   },
   "outputs": [
    {
     "name": "stderr",
     "output_type": "stream",
     "text": [
      "  0%|          | 1/214 [00:00<00:24,  8.75it/s]"
     ]
    },
    {
     "name": "stdout",
     "output_type": "stream",
     "text": [
      "tensor([[ 0.1396, -0.0911,  0.0469, -0.0923],\n",
      "        [ 0.0576, -0.0405,  0.0020, -0.0173],\n",
      "        [ 0.0928, -0.0635,  0.0535, -0.0806],\n",
      "        [-0.0413,  0.0913,  0.0447, -0.0903],\n",
      "        [-0.2402,  0.2317,  0.1538, -0.1313],\n",
      "        [ 0.1165, -0.0662,  0.0454, -0.0925],\n",
      "        [ 0.0996, -0.0583,  0.0449, -0.0828],\n",
      "        [ 0.0203, -0.0576,  0.1418, -0.0977],\n",
      "        [-0.0640,  0.1018,  0.0439, -0.0791],\n",
      "        [ 0.1196, -0.0737,  0.0471, -0.0911],\n",
      "        [ 0.1121, -0.0903,  0.0232, -0.0417],\n",
      "        [ 0.0552, -0.0120,  0.0344, -0.0745],\n",
      "        [ 0.0232, -0.0195,  0.0945, -0.0933],\n",
      "        [ 0.0752, -0.0691,  0.0176, -0.0208],\n",
      "        [-0.0042, -0.0234,  0.0105,  0.0168],\n",
      "        [ 0.1062, -0.0674,  0.0425, -0.0784],\n",
      "        [-0.0415,  0.0237,  0.0500, -0.0288],\n",
      "        [ 0.1284, -0.0906,  0.0449, -0.0796],\n",
      "        [ 0.1387, -0.0854,  0.0623, -0.1125],\n",
      "        [ 0.0095,  0.0056,  0.0825, -0.0928],\n",
      "        [ 0.1218, -0.0762,  0.0549, -0.0974],\n",
      "        [ 0.0007, -0.0515, -0.0149,  0.0676],\n",
      "        [-0.0298,  0.0508,  0.0662, -0.0835],\n",
      "        [ 0.1206, -0.0769,  0.0447, -0.0852],\n",
      "        [ 0.1614, -0.1230,  0.0576, -0.0918],\n",
      "        [ 0.1460, -0.0935,  0.0583, -0.1077],\n",
      "        [-0.1113,  0.1262,  0.0854, -0.0938],\n",
      "        [ 0.1465, -0.1086,  0.0659, -0.1016],\n",
      "        [ 0.0198,  0.0107,  0.0662, -0.0923],\n",
      "        [-0.1863,  0.1196,  0.1672, -0.0913],\n",
      "        [ 0.0791, -0.0569,  0.0266, -0.0461],\n",
      "        [ 0.0640, -0.0728,  0.0081,  0.0037]])\n"
     ]
    },
    {
     "name": "stderr",
     "output_type": "stream",
     "text": [
      "100%|██████████| 214/214 [00:16<00:00, 12.99it/s]"
     ]
    },
    {
     "name": "stdout",
     "output_type": "stream",
     "text": [
      "Total: 0.8164928555488586, N: 0.9182478189468384, AF: 0.7816666960716248, O: 0.7495642304420471, ACC: 0.8560539431251832\n"
     ]
    },
    {
     "name": "stderr",
     "output_type": "stream",
     "text": [
      "\n"
     ]
    }
   ],
   "source": [
    "cnn_quant.saturate = True\n",
    "cnn_quant.eval()\n",
    "F1t_trans3 = eval_model(cnn_quant, dln_train)"
   ]
  },
  {
   "cell_type": "code",
   "execution_count": 32,
   "id": "0cf11a46-1bdf-4563-9cae-45099d903844",
   "metadata": {},
   "outputs": [
    {
     "name": "stderr",
     "output_type": "stream",
     "text": [
      "  1%|▏         | 3/214 [00:00<00:19, 10.63it/s]"
     ]
    },
    {
     "name": "stdout",
     "output_type": "stream",
     "text": [
      "tensor([[ 0.1399, -0.0913,  0.0469, -0.0923],\n",
      "        [ 0.0581, -0.0408,  0.0022, -0.0178],\n",
      "        [ 0.0918, -0.0630,  0.0542, -0.0808],\n",
      "        [-0.0403,  0.0901,  0.0444, -0.0898],\n",
      "        [-0.2417,  0.2332,  0.1548, -0.1323],\n",
      "        [ 0.1172, -0.0669,  0.0454, -0.0923],\n",
      "        [ 0.0984, -0.0579,  0.0452, -0.0823],\n",
      "        [ 0.0208, -0.0576,  0.1418, -0.0981],\n",
      "        [-0.0637,  0.1016,  0.0437, -0.0789],\n",
      "        [ 0.1189, -0.0742,  0.0474, -0.0901],\n",
      "        [ 0.1130, -0.0911,  0.0234, -0.0422],\n",
      "        [ 0.0564, -0.0132,  0.0339, -0.0742],\n",
      "        [ 0.0217, -0.0193,  0.0957, -0.0933],\n",
      "        [ 0.0754, -0.0693,  0.0176, -0.0212],\n",
      "        [-0.0042, -0.0237,  0.0105,  0.0173],\n",
      "        [ 0.1064, -0.0671,  0.0427, -0.0789],\n",
      "        [-0.0415,  0.0234,  0.0498, -0.0283],\n",
      "        [ 0.1292, -0.0918,  0.0454, -0.0796],\n",
      "        [ 0.1384, -0.0859,  0.0640, -0.1133],\n",
      "        [ 0.0090,  0.0059,  0.0820, -0.0920],\n",
      "        [ 0.1218, -0.0759,  0.0547, -0.0972],\n",
      "        [ 0.0010, -0.0522, -0.0154,  0.0684],\n",
      "        [-0.0300,  0.0500,  0.0669, -0.0835],\n",
      "        [ 0.1206, -0.0769,  0.0447, -0.0854],\n",
      "        [ 0.1616, -0.1235,  0.0576, -0.0918],\n",
      "        [ 0.1462, -0.0938,  0.0583, -0.1077],\n",
      "        [-0.1116,  0.1265,  0.0857, -0.0940],\n",
      "        [ 0.1467, -0.1111,  0.0637, -0.0964],\n",
      "        [ 0.0198,  0.0105,  0.0662, -0.0920],\n",
      "        [-0.1841,  0.1191,  0.1658, -0.0913],\n",
      "        [ 0.0801, -0.0574,  0.0261, -0.0461],\n",
      "        [ 0.0635, -0.0725,  0.0078,  0.0044]])\n"
     ]
    },
    {
     "name": "stderr",
     "output_type": "stream",
     "text": [
      "100%|██████████| 214/214 [00:20<00:00, 10.68it/s]"
     ]
    },
    {
     "name": "stdout",
     "output_type": "stream",
     "text": [
      "Total: 0.8168550133705139, N: 0.9186782240867615, AF: 0.7810158133506775, O: 0.7508710622787476, ACC: 0.85649369686309\n"
     ]
    },
    {
     "name": "stderr",
     "output_type": "stream",
     "text": [
      "\n"
     ]
    }
   ],
   "source": [
    "# prepare transformation of input data such that DWT calculation is in fixed point\n",
    "#b=16\n",
    "\n",
    "dsetnq_train = CINC7Dataset('../data/custom/physionet2017_4classes.hdf5',train=True,transform=DWTnNorm(4,cnn_normed.input_lmbda,cnn_normed.input_dlta,quant=True,b=b))\n",
    "dsetnq_val = CINC7Dataset('../data/custom/physionet2017_4classes.hdf5',train=False,transform=DWTnNorm(4,cnn_normed.input_lmbda,cnn_normed.input_dlta,quant=True,b=b))\n",
    "\n",
    "dlnq_train = DataLoader(dsetnq_train, batch_size=bs, shuffle=False, num_workers=0)\n",
    "dlnq_val = DataLoader(dsetnq_val, batch_size=bs, shuffle=False, num_workers=0)\n",
    "\n",
    "cnn_quant = WVCNN4()\n",
    "cnn_quant.load_state_dict(cnn_normed.state_dict())\n",
    "#cnn_quant = cnn_normed\n",
    "cnn_quant.update_weights_with_quant(b=b) # number of fractional bits for weights and bias\n",
    "cnn_quant.q_actb = b # number of fractional bits for activations\n",
    "cnn_quant.quantize = True\n",
    "cnn_quant.normed = True\n",
    "cnn_quant.saturate = True\n",
    "cnn_quant.eval()\n",
    "F1t_trans4 = eval_model(cnn_quant, dlnq_train)"
   ]
  },
  {
   "cell_type": "code",
   "execution_count": 33,
   "id": "3d707127-6811-4a88-9bdd-2c87cf6c90e7",
   "metadata": {},
   "outputs": [],
   "source": [
    "# Save final model \n",
    "#model_path_snn = f'snn_ref/model_fold{val_fold}_snn.pt'\n",
    "#torch.save(cnn_quant, model_path_snn)"
   ]
  },
  {
   "cell_type": "code",
   "execution_count": 34,
   "id": "bc6be54a-5984-4aa9-9a22-d42d5ff10159",
   "metadata": {},
   "outputs": [],
   "source": [
    "# For matlab\n",
    "import scipy.io as sio\n",
    "export_dict = {}\n",
    "sd = cnn_quant.state_dict()\n",
    "for entry in sd:\n",
    "    export_dict[entry.replace(\".\",\"_\")] = sd[entry].numpy()\n",
    "\n",
    "export_dict['input_lmbda'] = cnn_normed.input_lmbda.numpy()\n",
    "export_dict['input_dlta'] = cnn_normed.input_dlta.numpy()\n",
    "    \n",
    "#sio.savemat(f'model_state_dict{val_fold}_snn.mat', {'dict': export_dict})"
   ]
  },
  {
   "cell_type": "code",
   "execution_count": 35,
   "id": "3fd57569-ffb7-40fc-bcc0-15c2dccc612f",
   "metadata": {},
   "outputs": [
    {
     "name": "stderr",
     "output_type": "stream",
     "text": [
      "100%|██████████| 54/54 [00:03<00:00, 13.94it/s]\n"
     ]
    },
    {
     "name": "stdout",
     "output_type": "stream",
     "text": [
      "Total: 0.8070570826530457, N: 0.8963474631309509, AF: 0.8057971000671387, O: 0.7190265655517578, ACC: 0.8311840562719812\n"
     ]
    },
    {
     "name": "stderr",
     "output_type": "stream",
     "text": [
      "100%|██████████| 54/54 [00:03<00:00, 15.12it/s]\n"
     ]
    },
    {
     "name": "stdout",
     "output_type": "stream",
     "text": [
      "Total: 0.8081307411193848, N: 0.8977159857749939, AF: 0.8057971000671387, O: 0.7208791375160217, ACC: 0.8311840562719812\n"
     ]
    },
    {
     "name": "stderr",
     "output_type": "stream",
     "text": [
      "100%|██████████| 54/54 [00:03<00:00, 14.38it/s]\n"
     ]
    },
    {
     "name": "stdout",
     "output_type": "stream",
     "text": [
      "Total: 0.8081307411193848, N: 0.8977159857749939, AF: 0.8057971000671387, O: 0.7208791375160217, ACC: 0.8311840562719812\n"
     ]
    },
    {
     "name": "stderr",
     "output_type": "stream",
     "text": [
      "100%|██████████| 54/54 [00:04<00:00, 13.41it/s]\n"
     ]
    },
    {
     "name": "stdout",
     "output_type": "stream",
     "text": [
      "Total: 0.8023040890693665, N: 0.89806067943573, AF: 0.7955182194709778, O: 0.7133333086967468, ACC: 0.828253223915592\n"
     ]
    },
    {
     "name": "stderr",
     "output_type": "stream",
     "text": [
      "100%|██████████| 54/54 [00:05<00:00, 10.53it/s]"
     ]
    },
    {
     "name": "stdout",
     "output_type": "stream",
     "text": [
      "Total: 0.8035113215446472, N: 0.8981619477272034, AF: 0.7988826632499695, O: 0.7134894132614136, ACC: 0.8288393903868698\n"
     ]
    },
    {
     "name": "stderr",
     "output_type": "stream",
     "text": [
      "\n"
     ]
    }
   ],
   "source": [
    "# get metrics for evaluation on train set (see above)\n",
    "#F1t_ref = eval_model(cnn, dl_train,print_first=False)\n",
    "#F1t_trans1 = eval_model(cnn_bninteg, dl_train,print_first=False)\n",
    "#F1t_trans2 = eval_model(cnn_normed, dln_train,print_first=False)\n",
    "#F1t_trans3 = eval_model(cnn_quant, dln_train,print_first=False)\n",
    "\n",
    "# get metrics for evaluation on validation set\n",
    "F1v_ref = eval_model(cnn, dl_val,print_first=False)\n",
    "F1v_trans1 = eval_model(cnn_bninteg, dl_val,print_first=False)\n",
    "F1v_trans2 = eval_model(cnn_normed, dln_val,print_first=False)\n",
    "F1v_trans3 = eval_model(cnn_quant, dln_val,print_first=False)\n",
    "F1v_trans4 = eval_model(cnn_quant, dlnq_val,print_first=False)"
   ]
  },
  {
   "cell_type": "code",
   "execution_count": 36,
   "id": "f490eb3d-a02b-44dc-a398-aa5011ad9ad4",
   "metadata": {},
   "outputs": [
    {
     "name": "stderr",
     "output_type": "stream",
     "text": [
      "findfont: Font family 'Arial' not found.\n",
      "findfont: Font family 'Arial' not found.\n",
      "findfont: Font family 'Arial' not found.\n",
      "findfont: Font family 'Arial' not found.\n",
      "findfont: Font family 'Arial' not found.\n",
      "findfont: Font family 'Arial' not found.\n",
      "findfont: Font family 'Arial' not found.\n",
      "findfont: Font family 'Arial' not found.\n",
      "findfont: Font family 'Arial' not found.\n",
      "findfont: Font family 'Arial' not found.\n",
      "findfont: Font family 'Arial' not found.\n",
      "findfont: Font family 'Arial' not found.\n",
      "findfont: Font family 'Arial' not found.\n",
      "findfont: Font family 'Arial' not found.\n",
      "findfont: Font family 'Arial' not found.\n",
      "findfont: Font family 'Arial' not found.\n",
      "findfont: Font family 'Arial' not found.\n",
      "findfont: Font family 'Arial' not found.\n",
      "findfont: Font family 'Arial' not found.\n",
      "findfont: Font family 'Arial' not found.\n",
      "findfont: Font family 'Arial' not found.\n",
      "findfont: Font family 'Arial' not found.\n",
      "findfont: Font family 'Arial' not found.\n",
      "findfont: Font family 'Arial' not found.\n",
      "findfont: Font family 'Arial' not found.\n",
      "findfont: Font family 'Arial' not found.\n",
      "findfont: Font family 'Arial' not found.\n",
      "findfont: Font family 'Arial' not found.\n",
      "findfont: Font family 'Arial' not found.\n",
      "findfont: Font family 'Arial' not found.\n",
      "findfont: Font family 'Arial' not found.\n",
      "findfont: Font family 'Arial' not found.\n",
      "findfont: Font family 'Arial' not found.\n",
      "findfont: Font family 'Arial' not found.\n",
      "findfont: Font family 'Arial' not found.\n",
      "findfont: Font family 'Arial' not found.\n",
      "findfont: Font family 'Arial' not found.\n",
      "findfont: Font family 'Arial' not found.\n",
      "findfont: Font family 'Arial' not found.\n",
      "findfont: Font family 'Arial' not found.\n",
      "findfont: Font family 'Arial' not found.\n",
      "findfont: Font family 'Arial' not found.\n",
      "findfont: Font family 'Arial' not found.\n",
      "findfont: Font family 'Arial' not found.\n",
      "findfont: Font family 'Arial' not found.\n",
      "findfont: Font family 'Arial' not found.\n",
      "findfont: Font family 'Arial' not found.\n",
      "findfont: Font family 'Arial' not found.\n",
      "findfont: Font family 'Arial' not found.\n",
      "findfont: Font family 'Arial' not found.\n",
      "findfont: Font family 'Arial' not found.\n",
      "findfont: Font family 'Arial' not found.\n",
      "findfont: Font family 'Arial' not found.\n",
      "findfont: Font family 'Arial' not found.\n",
      "findfont: Font family 'Arial' not found.\n",
      "findfont: Font family 'Arial' not found.\n",
      "findfont: Font family 'Arial' not found.\n",
      "findfont: Font family 'Arial' not found.\n",
      "findfont: Font family 'Arial' not found.\n",
      "findfont: Font family 'Arial' not found.\n",
      "findfont: Font family 'Arial' not found.\n",
      "findfont: Font family 'Arial' not found.\n",
      "findfont: Font family 'Arial' not found.\n",
      "findfont: Font family 'Arial' not found.\n",
      "findfont: Font family 'Arial' not found.\n",
      "findfont: Font family 'Arial' not found.\n",
      "findfont: Font family 'Arial' not found.\n",
      "findfont: Font family 'Arial' not found.\n",
      "findfont: Font family 'Arial' not found.\n",
      "findfont: Font family 'Arial' not found.\n",
      "findfont: Font family 'Arial' not found.\n",
      "findfont: Font family 'Arial' not found.\n",
      "findfont: Font family 'Arial' not found.\n",
      "findfont: Font family 'Arial' not found.\n",
      "findfont: Font family 'Arial' not found.\n",
      "findfont: Font family 'Arial' not found.\n",
      "findfont: Font family 'Arial' not found.\n",
      "findfont: Font family 'Arial' not found.\n",
      "findfont: Font family 'Arial' not found.\n",
      "findfont: Font family 'Arial' not found.\n",
      "findfont: Font family 'Arial' not found.\n",
      "findfont: Font family 'Arial' not found.\n",
      "findfont: Font family 'Arial' not found.\n",
      "findfont: Font family 'Arial' not found.\n",
      "findfont: Font family 'Arial' not found.\n",
      "findfont: Font family 'Arial' not found.\n",
      "findfont: Font family 'Arial' not found.\n",
      "findfont: Font family 'Arial' not found.\n",
      "findfont: Font family 'Arial' not found.\n",
      "findfont: Font family 'Arial' not found.\n",
      "findfont: Font family 'Arial' not found.\n",
      "findfont: Font family 'Arial' not found.\n",
      "findfont: Font family 'Arial' not found.\n",
      "findfont: Font family 'Arial' not found.\n",
      "findfont: Font family 'Arial' not found.\n",
      "findfont: Font family 'Arial' not found.\n",
      "findfont: Font family 'Arial' not found.\n",
      "findfont: Font family 'Arial' not found.\n",
      "findfont: Font family 'Arial' not found.\n",
      "findfont: Font family 'Arial' not found.\n",
      "findfont: Font family 'Arial' not found.\n",
      "findfont: Font family 'Arial' not found.\n",
      "findfont: Font family 'Arial' not found.\n",
      "findfont: Font family 'Arial' not found.\n",
      "findfont: Font family 'Arial' not found.\n",
      "findfont: Font family 'Arial' not found.\n",
      "findfont: Font family 'Arial' not found.\n",
      "findfont: Font family 'Arial' not found.\n",
      "findfont: Font family 'Arial' not found.\n",
      "findfont: Font family 'Arial' not found.\n",
      "findfont: Font family 'Arial' not found.\n",
      "findfont: Font family 'Arial' not found.\n",
      "findfont: Font family 'Arial' not found.\n",
      "findfont: Font family 'Arial' not found.\n",
      "findfont: Font family 'Arial' not found.\n",
      "findfont: Font family 'Arial' not found.\n",
      "findfont: Font family 'Arial' not found.\n",
      "findfont: Font family 'Arial' not found.\n",
      "findfont: Font family 'Arial' not found.\n",
      "findfont: Font family 'Arial' not found.\n",
      "findfont: Font family 'Arial' not found.\n",
      "findfont: Font family 'Arial' not found.\n",
      "findfont: Font family 'Arial' not found.\n",
      "findfont: Font family 'Arial' not found.\n",
      "findfont: Font family 'Arial' not found.\n",
      "findfont: Font family 'Arial' not found.\n",
      "findfont: Font family 'Arial' not found.\n",
      "findfont: Font family 'Arial' not found.\n",
      "findfont: Font family 'Arial' not found.\n",
      "findfont: Font family 'Arial' not found.\n",
      "findfont: Font family 'Arial' not found.\n",
      "findfont: Font family 'Arial' not found.\n",
      "findfont: Font family 'Arial' not found.\n",
      "findfont: Font family 'Arial' not found.\n",
      "findfont: Font family 'Arial' not found.\n",
      "findfont: Font family 'Arial' not found.\n",
      "findfont: Font family 'Arial' not found.\n",
      "findfont: Font family 'Arial' not found.\n",
      "findfont: Font family 'Arial' not found.\n",
      "findfont: Font family 'Arial' not found.\n",
      "findfont: Font family 'Arial' not found.\n",
      "findfont: Font family 'Arial' not found.\n",
      "findfont: Font family 'Arial' not found.\n",
      "findfont: Font family 'Arial' not found.\n",
      "findfont: Font family 'Arial' not found.\n",
      "findfont: Font family 'Arial' not found.\n",
      "findfont: Font family 'Arial' not found.\n",
      "findfont: Font family 'Arial' not found.\n",
      "findfont: Font family 'Arial' not found.\n",
      "findfont: Font family 'Arial' not found.\n",
      "findfont: Font family 'Arial' not found.\n",
      "findfont: Font family 'Arial' not found.\n",
      "findfont: Font family 'Arial' not found.\n",
      "findfont: Font family 'Arial' not found.\n",
      "findfont: Font family 'Arial' not found.\n",
      "findfont: Font family 'Arial' not found.\n",
      "findfont: Font family 'Arial' not found.\n",
      "findfont: Font family 'Arial' not found.\n",
      "findfont: Font family 'Arial' not found.\n",
      "findfont: Font family 'Arial' not found.\n",
      "findfont: Font family 'Arial' not found.\n",
      "findfont: Font family 'Arial' not found.\n",
      "findfont: Font family 'Arial' not found.\n",
      "findfont: Font family 'Arial' not found.\n",
      "findfont: Font family 'Arial' not found.\n",
      "findfont: Font family 'Arial' not found.\n",
      "findfont: Font family 'Arial' not found.\n",
      "findfont: Font family 'Arial' not found.\n",
      "findfont: Font family 'Arial' not found.\n",
      "findfont: Font family 'Arial' not found.\n",
      "findfont: Font family 'Arial' not found.\n",
      "findfont: Font family 'Arial' not found.\n",
      "findfont: Font family 'Arial' not found.\n",
      "findfont: Font family 'Arial' not found.\n",
      "findfont: Font family 'Arial' not found.\n",
      "findfont: Font family 'Arial' not found.\n",
      "findfont: Font family 'Arial' not found.\n",
      "findfont: Font family 'Arial' not found.\n",
      "findfont: Font family 'Arial' not found.\n",
      "findfont: Font family 'Arial' not found.\n",
      "findfont: Font family 'Arial' not found.\n",
      "findfont: Font family 'Arial' not found.\n",
      "findfont: Font family 'Arial' not found.\n",
      "findfont: Font family 'Arial' not found.\n",
      "findfont: Font family 'Arial' not found.\n",
      "findfont: Font family 'Arial' not found.\n",
      "findfont: Font family 'Arial' not found.\n",
      "findfont: Font family 'Arial' not found.\n",
      "findfont: Font family 'Arial' not found.\n",
      "findfont: Font family 'Arial' not found.\n",
      "findfont: Font family 'Arial' not found.\n",
      "findfont: Font family 'Arial' not found.\n",
      "findfont: Font family 'Arial' not found.\n",
      "findfont: Font family 'Arial' not found.\n",
      "findfont: Font family 'Arial' not found.\n",
      "findfont: Font family 'Arial' not found.\n",
      "findfont: Font family 'Arial' not found.\n",
      "findfont: Font family 'Arial' not found.\n",
      "findfont: Font family 'Arial' not found.\n",
      "findfont: Font family 'Arial' not found.\n",
      "findfont: Font family 'Arial' not found.\n",
      "findfont: Font family 'Arial' not found.\n",
      "findfont: Font family 'Arial' not found.\n",
      "findfont: Font family 'Arial' not found.\n",
      "findfont: Font family 'Arial' not found.\n",
      "findfont: Font family 'Arial' not found.\n",
      "findfont: Font family 'Arial' not found.\n",
      "findfont: Font family 'Arial' not found.\n",
      "findfont: Font family 'Arial' not found.\n",
      "findfont: Font family 'Arial' not found.\n",
      "findfont: Font family 'Arial' not found.\n",
      "findfont: Font family 'Arial' not found.\n",
      "findfont: Font family 'Arial' not found.\n",
      "findfont: Font family 'Arial' not found.\n",
      "findfont: Font family 'Arial' not found.\n",
      "findfont: Font family 'Arial' not found.\n",
      "findfont: Font family 'Arial' not found.\n",
      "findfont: Font family 'Arial' not found.\n",
      "findfont: Font family 'Arial' not found.\n",
      "findfont: Font family 'Arial' not found.\n",
      "findfont: Font family 'Arial' not found.\n",
      "findfont: Font family 'Arial' not found.\n",
      "findfont: Font family 'Arial' not found.\n",
      "findfont: Font family 'Arial' not found.\n",
      "findfont: Font family 'Arial' not found.\n",
      "findfont: Font family 'Arial' not found.\n",
      "findfont: Font family 'Arial' not found.\n",
      "findfont: Font family 'Arial' not found.\n",
      "findfont: Font family 'Arial' not found.\n",
      "findfont: Font family 'Arial' not found.\n",
      "findfont: Font family 'Arial' not found.\n",
      "findfont: Font family 'Arial' not found.\n",
      "findfont: Font family 'Arial' not found.\n",
      "findfont: Font family 'Arial' not found.\n",
      "findfont: Font family 'Arial' not found.\n",
      "findfont: Font family 'Arial' not found.\n",
      "findfont: Font family 'Arial' not found.\n",
      "findfont: Font family 'Arial' not found.\n",
      "findfont: Font family 'Arial' not found.\n",
      "findfont: Font family 'Arial' not found.\n",
      "findfont: Font family 'Arial' not found.\n",
      "findfont: Font family 'Arial' not found.\n",
      "findfont: Font family 'Arial' not found.\n",
      "findfont: Font family 'Arial' not found.\n",
      "findfont: Font family 'Arial' not found.\n",
      "findfont: Font family 'Arial' not found.\n",
      "findfont: Font family 'Arial' not found.\n",
      "findfont: Font family 'Arial' not found.\n",
      "findfont: Font family 'Arial' not found.\n",
      "findfont: Font family 'Arial' not found.\n",
      "findfont: Font family 'Arial' not found.\n",
      "findfont: Font family 'Arial' not found.\n",
      "findfont: Font family 'Arial' not found.\n",
      "findfont: Font family 'Arial' not found.\n",
      "findfont: Font family 'Arial' not found.\n",
      "findfont: Font family 'Arial' not found.\n",
      "findfont: Font family 'Arial' not found.\n",
      "findfont: Font family 'Arial' not found.\n",
      "findfont: Font family 'Arial' not found.\n",
      "findfont: Font family 'Arial' not found.\n",
      "findfont: Font family 'Arial' not found.\n",
      "findfont: Font family 'Arial' not found.\n",
      "findfont: Font family 'Arial' not found.\n",
      "findfont: Font family 'Arial' not found.\n",
      "findfont: Font family 'Arial' not found.\n",
      "findfont: Font family 'Arial' not found.\n",
      "findfont: Font family 'Arial' not found.\n",
      "findfont: Font family 'Arial' not found.\n",
      "findfont: Font family 'Arial' not found.\n",
      "findfont: Font family 'Arial' not found.\n",
      "findfont: Font family 'Arial' not found.\n",
      "findfont: Font family 'Arial' not found.\n",
      "findfont: Font family 'Arial' not found.\n",
      "findfont: Font family 'Arial' not found.\n",
      "findfont: Font family 'Arial' not found.\n",
      "findfont: Font family 'Arial' not found.\n",
      "findfont: Font family 'Arial' not found.\n",
      "findfont: Font family 'Arial' not found.\n",
      "findfont: Font family 'Arial' not found.\n",
      "findfont: Font family 'Arial' not found.\n",
      "findfont: Font family 'Arial' not found.\n",
      "findfont: Font family 'Arial' not found.\n",
      "findfont: Font family 'Arial' not found.\n",
      "findfont: Font family 'Arial' not found.\n",
      "findfont: Font family 'Arial' not found.\n",
      "findfont: Font family 'Arial' not found.\n",
      "findfont: Font family 'Arial' not found.\n",
      "findfont: Font family 'Arial' not found.\n",
      "findfont: Font family 'Arial' not found.\n",
      "findfont: Font family 'Arial' not found.\n",
      "findfont: Font family 'Arial' not found.\n",
      "findfont: Font family 'Arial' not found.\n",
      "findfont: Font family 'Arial' not found.\n",
      "findfont: Font family 'Arial' not found.\n",
      "findfont: Font family 'Arial' not found.\n",
      "findfont: Font family 'Arial' not found.\n",
      "findfont: Font family 'Arial' not found.\n",
      "findfont: Font family 'Arial' not found.\n",
      "findfont: Font family 'Arial' not found.\n",
      "findfont: Font family 'Arial' not found.\n",
      "findfont: Font family 'Arial' not found.\n",
      "findfont: Font family 'Arial' not found.\n",
      "findfont: Font family 'Arial' not found.\n",
      "findfont: Font family 'Arial' not found.\n",
      "findfont: Font family 'Arial' not found.\n",
      "findfont: Font family 'Arial' not found.\n"
     ]
    },
    {
     "data": {
      "image/png": "[encoded data removed]",
      "text/plain": [
       "<Figure size 400x300 with 1 Axes>"
      ]
     },
     "metadata": {},
     "output_type": "display_data"
    }
   ],
   "source": [
    "plt.rcParams['font.family'] = 'Arial'\n",
    "\n",
    "\n",
    "# plot data\n",
    "train_all = [F1t_ref[0],F1t_trans1[0],F1t_trans2[0],F1t_trans3[0],F1t_trans4[0]]\n",
    "val_all = [F1v_ref[0],F1v_trans1[0],F1v_trans2[0],F1v_trans3[0],F1v_trans4[0]]\n",
    "#trans_descr = [\"reference\",\"+integr. BN\",\"+act. norm\",\"+NN_quant\",\"+DWT_quant\"]\n",
    "trans_descr = [\"Ref\",\"+BN\\nintegr.\",\"+Act.\\nnorm\",\"+NN\\nquant\",\"+DWT\\nquant\"]\n",
    "\n",
    "# plot metrics\n",
    "ax = plt.figure(figsize=[4,3])\n",
    "plt.rcParams.update({'font.weight': 'normal'})\n",
    "plt.plot(trans_descr,train_all,\"b-x\", label='train set')\n",
    "plt.plot(trans_descr,val_all,\"r-x\", label='val set')\n",
    "plt.grid(True,which='both')\n",
    "plt.ylim((0.790,0.825))\n",
    "#plt.ylabel(\"F1 score (CinC'17 definition)\")\n",
    "plt.ylabel(\"F1 score\")\n",
    "#plt.title(f\"Normalization & Quantization of WVCNN design for SNN conversion\\n (b={b} fractional bits)\")\n",
    "ax.legend(loc='lower left', bbox_to_anchor=(0.15, 0.15))\n",
    "plt.savefig('wvcnn_norm_steps.png',dpi=600, bbox_inches = \"tight\")\n",
    "plt.savefig('wvcnn_norm_steps.pdf',format='pdf', bbox_inches = \"tight\")"
   ]
  },
  {
   "cell_type": "code",
   "execution_count": 37,
   "id": "67754d97-9a94-4263-83f1-f5ae39ba8fea",
   "metadata": {},
   "outputs": [
    {
     "name": "stdout",
     "output_type": "stream",
     "text": [
      "6822\n",
      "tensor(105)\n",
      "tensor(110)\n"
     ]
    }
   ],
   "source": [
    "# Difference of classified samples between reference and \"final\" quantized version\n",
    "print(len(F1t_ref[4]))\n",
    "print((F1t_ref[4] != F1t_trans3[4]).sum())\n",
    "print((F1t_ref[4] != F1t_trans4[4]).sum())"
   ]
  },
  {
   "cell_type": "code",
   "execution_count": 38,
   "id": "7f27e178",
   "metadata": {},
   "outputs": [
    {
     "name": "stderr",
     "output_type": "stream",
     "text": [
      "100%|██████████| 214/214 [00:23<00:00,  9.28it/s]\n"
     ]
    },
    {
     "name": "stdout",
     "output_type": "stream",
     "text": [
      "Total: 0.2503737509250641, N: 0.7511212825775146, AF: 0.0, O: 0.0, ACC: 0.6014365288771621\n"
     ]
    },
    {
     "name": "stderr",
     "output_type": "stream",
     "text": [
      "100%|██████████| 54/54 [00:05<00:00, 10.67it/s]\n"
     ]
    },
    {
     "name": "stdout",
     "output_type": "stream",
     "text": [
      "Total: 0.24213014543056488, N: 0.7263904213905334, AF: 0.0, O: 0.0, ACC: 0.5703399765533411\n"
     ]
    },
    {
     "name": "stderr",
     "output_type": "stream",
     "text": [
      "100%|██████████| 214/214 [00:20<00:00, 10.36it/s]\n"
     ]
    },
    {
     "name": "stdout",
     "output_type": "stream",
     "text": [
      "Total: 0.2503737509250641, N: 0.7511212825775146, AF: 0.0, O: 0.0, ACC: 0.6014365288771621\n"
     ]
    },
    {
     "name": "stderr",
     "output_type": "stream",
     "text": [
      "100%|██████████| 54/54 [00:05<00:00, 10.52it/s]\n"
     ]
    },
    {
     "name": "stdout",
     "output_type": "stream",
     "text": [
      "Total: 0.24213014543056488, N: 0.7263904213905334, AF: 0.0, O: 0.0, ACC: 0.5703399765533411\n"
     ]
    },
    {
     "name": "stderr",
     "output_type": "stream",
     "text": [
      "100%|██████████| 214/214 [00:21<00:00,  9.81it/s]\n"
     ]
    },
    {
     "name": "stdout",
     "output_type": "stream",
     "text": [
      "Total: 0.2503737509250641, N: 0.7511212825775146, AF: 0.0, O: 0.0, ACC: 0.6014365288771621\n"
     ]
    },
    {
     "name": "stderr",
     "output_type": "stream",
     "text": [
      "100%|██████████| 54/54 [00:05<00:00, 10.52it/s]\n"
     ]
    },
    {
     "name": "stdout",
     "output_type": "stream",
     "text": [
      "Total: 0.24213014543056488, N: 0.7263904213905334, AF: 0.0, O: 0.0, ACC: 0.5703399765533411\n"
     ]
    },
    {
     "name": "stderr",
     "output_type": "stream",
     "text": [
      "100%|██████████| 214/214 [00:21<00:00,  9.84it/s]\n"
     ]
    },
    {
     "name": "stdout",
     "output_type": "stream",
     "text": [
      "Total: 0.2545405626296997, N: 0.7493056654930115, AF: 0.006144393235445023, O: 0.00817160401493311, ACC: 0.5955731457050718\n"
     ]
    },
    {
     "name": "stderr",
     "output_type": "stream",
     "text": [
      "100%|██████████| 54/54 [00:05<00:00, 10.43it/s]\n"
     ]
    },
    {
     "name": "stdout",
     "output_type": "stream",
     "text": [
      "Total: 0.2426127791404724, N: 0.7238383293151855, AF: 0.0, O: 0.004000000189989805, ACC: 0.563305978898007\n"
     ]
    },
    {
     "name": "stderr",
     "output_type": "stream",
     "text": [
      "100%|██████████| 214/214 [00:22<00:00,  9.71it/s]\n"
     ]
    },
    {
     "name": "stdout",
     "output_type": "stream",
     "text": [
      "Total: 0.29297104477882385, N: 0.7208634614944458, AF: 0.0660276859998703, O: 0.09202194958925247, ACC: 0.5554089709762533\n"
     ]
    },
    {
     "name": "stderr",
     "output_type": "stream",
     "text": [
      "100%|██████████| 54/54 [00:05<00:00, 10.38it/s]\n"
     ]
    },
    {
     "name": "stdout",
     "output_type": "stream",
     "text": [
      "Total: 0.28875741362571716, N: 0.6994713544845581, AF: 0.08191126585006714, O: 0.08488964289426804, ACC: 0.5275498241500586\n"
     ]
    },
    {
     "name": "stderr",
     "output_type": "stream",
     "text": [
      "100%|██████████| 214/214 [00:21<00:00,  9.99it/s]\n"
     ]
    },
    {
     "name": "stdout",
     "output_type": "stream",
     "text": [
      "Total: 0.009713453240692616, N: 0.0, AF: 0.0, O: 0.029140358790755272, ACC: 0.035913221929053066\n"
     ]
    },
    {
     "name": "stderr",
     "output_type": "stream",
     "text": [
      "100%|██████████| 54/54 [00:05<00:00, 10.20it/s]\n"
     ]
    },
    {
     "name": "stdout",
     "output_type": "stream",
     "text": [
      "Total: 0.008939974941313267, N: 0.0, AF: 0.0, O: 0.026819923892617226, ACC: 0.041617819460726846\n"
     ]
    },
    {
     "name": "stderr",
     "output_type": "stream",
     "text": [
      "100%|██████████| 214/214 [00:22<00:00,  9.68it/s]\n"
     ]
    },
    {
     "name": "stdout",
     "output_type": "stream",
     "text": [
      "Total: 0.12637512385845184, N: 0.000487329438328743, AF: 0.0, O: 0.37863802909851074, ACC: 0.202726473175022\n"
     ]
    },
    {
     "name": "stderr",
     "output_type": "stream",
     "text": [
      "100%|██████████| 54/54 [00:05<00:00,  9.80it/s]\n"
     ]
    },
    {
     "name": "stdout",
     "output_type": "stream",
     "text": [
      "Total: 0.1303243488073349, N: 0.002053388161584735, AF: 0.0, O: 0.3889196813106537, ACC: 0.21805392731535755\n"
     ]
    },
    {
     "name": "stderr",
     "output_type": "stream",
     "text": [
      "100%|██████████| 214/214 [00:22<00:00,  9.37it/s]\n"
     ]
    },
    {
     "name": "stdout",
     "output_type": "stream",
     "text": [
      "Total: 0.21148984134197235, N: 0.044549763202667236, AF: 0.17416545748710632, O: 0.4157542884349823, ACC: 0.26854294928173555\n"
     ]
    },
    {
     "name": "stderr",
     "output_type": "stream",
     "text": [
      "100%|██████████| 54/54 [00:05<00:00,  9.28it/s]\n"
     ]
    },
    {
     "name": "stdout",
     "output_type": "stream",
     "text": [
      "Total: 0.20980769395828247, N: 0.03212851285934448, AF: 0.18136020004749298, O: 0.41593438386917114, ACC: 0.26670574443141853\n"
     ]
    },
    {
     "name": "stderr",
     "output_type": "stream",
     "text": [
      "100%|██████████| 214/214 [00:23<00:00,  9.04it/s]\n"
     ]
    },
    {
     "name": "stdout",
     "output_type": "stream",
     "text": [
      "Total: 0.5138188004493713, N: 0.8453429341316223, AF: 0.09508197009563446, O: 0.6010316014289856, ACC: 0.7150395778364116\n"
     ]
    },
    {
     "name": "stderr",
     "output_type": "stream",
     "text": [
      "100%|██████████| 54/54 [00:05<00:00,  9.63it/s]\n"
     ]
    },
    {
     "name": "stdout",
     "output_type": "stream",
     "text": [
      "Total: 0.4816098213195801, N: 0.813128650188446, AF: 0.0648648664355278, O: 0.566835880279541, ACC: 0.6705744431418523\n"
     ]
    },
    {
     "name": "stderr",
     "output_type": "stream",
     "text": [
      "100%|██████████| 214/214 [00:23<00:00,  9.08it/s]\n"
     ]
    },
    {
     "name": "stdout",
     "output_type": "stream",
     "text": [
      "Total: 0.7728462219238281, N: 0.8989530205726624, AF: 0.709583044052124, O: 0.7100027799606323, ACC: 0.8218997361477572\n"
     ]
    },
    {
     "name": "stderr",
     "output_type": "stream",
     "text": [
      "100%|██████████| 54/54 [00:05<00:00,  9.25it/s]\n"
     ]
    },
    {
     "name": "stdout",
     "output_type": "stream",
     "text": [
      "Total: 0.7552902698516846, N: 0.8782742619514465, AF: 0.7246376872062683, O: 0.6629588603973389, ACC: 0.7930832356389215\n"
     ]
    },
    {
     "name": "stderr",
     "output_type": "stream",
     "text": [
      "100%|██████████| 214/214 [00:24<00:00,  8.75it/s]\n"
     ]
    },
    {
     "name": "stdout",
     "output_type": "stream",
     "text": [
      "Total: 0.7837166786193848, N: 0.868328332901001, AF: 0.7666399478912354, O: 0.7161816358566284, ACC: 0.8048959249486954\n"
     ]
    },
    {
     "name": "stderr",
     "output_type": "stream",
     "text": [
      "100%|██████████| 54/54 [00:05<00:00,  9.42it/s]\n"
     ]
    },
    {
     "name": "stdout",
     "output_type": "stream",
     "text": [
      "Total: 0.7658278346061707, N: 0.8308038115501404, AF: 0.7847411632537842, O: 0.6819383502006531, ACC: 0.7690504103165299\n"
     ]
    },
    {
     "name": "stderr",
     "output_type": "stream",
     "text": [
      "100%|██████████| 214/214 [00:23<00:00,  9.14it/s]\n"
     ]
    },
    {
     "name": "stdout",
     "output_type": "stream",
     "text": [
      "Total: 0.81606525182724, N: 0.9156990051269531, AF: 0.7817703485488892, O: 0.7507263422012329, ACC: 0.8554676048079742\n"
     ]
    },
    {
     "name": "stderr",
     "output_type": "stream",
     "text": [
      "100%|██████████| 54/54 [00:05<00:00,  9.47it/s]\n"
     ]
    },
    {
     "name": "stdout",
     "output_type": "stream",
     "text": [
      "Total: 0.7969120144844055, N: 0.8934707641601562, AF: 0.7882353067398071, O: 0.7090300917625427, ACC: 0.824736225087925\n"
     ]
    },
    {
     "name": "stderr",
     "output_type": "stream",
     "text": [
      "100%|██████████| 214/214 [00:24<00:00,  8.82it/s]\n"
     ]
    },
    {
     "name": "stdout",
     "output_type": "stream",
     "text": [
      "Total: 0.8168550133705139, N: 0.9186782240867615, AF: 0.7810158133506775, O: 0.7508710622787476, ACC: 0.85649369686309\n"
     ]
    },
    {
     "name": "stderr",
     "output_type": "stream",
     "text": [
      "100%|██████████| 54/54 [00:05<00:00,  9.16it/s]\n"
     ]
    },
    {
     "name": "stdout",
     "output_type": "stream",
     "text": [
      "Total: 0.8035113215446472, N: 0.8981619477272034, AF: 0.7988826632499695, O: 0.7134894132614136, ACC: 0.8288393903868698\n"
     ]
    },
    {
     "name": "stderr",
     "output_type": "stream",
     "text": [
      "100%|██████████| 214/214 [00:23<00:00,  8.93it/s]\n"
     ]
    },
    {
     "name": "stdout",
     "output_type": "stream",
     "text": [
      "Total: 0.819617509841919, N: 0.9176993370056152, AF: 0.7841788530349731, O: 0.7569743990898132, ACC: 0.8579595426561126\n"
     ]
    },
    {
     "name": "stderr",
     "output_type": "stream",
     "text": [
      "100%|██████████| 54/54 [00:05<00:00,  9.77it/s]\n"
     ]
    },
    {
     "name": "stdout",
     "output_type": "stream",
     "text": [
      "Total: 0.8058991432189941, N: 0.897372305393219, AF: 0.7988338470458984, O: 0.7214912176132202, ACC: 0.8305978898007034\n"
     ]
    },
    {
     "name": "stderr",
     "output_type": "stream",
     "text": [
      "100%|██████████| 214/214 [00:23<00:00,  8.92it/s]\n"
     ]
    },
    {
     "name": "stdout",
     "output_type": "stream",
     "text": [
      "Total: 0.8190308213233948, N: 0.9174268841743469, AF: 0.7850467562675476, O: 0.7546189427375793, ACC: 0.8572266197596012\n"
     ]
    },
    {
     "name": "stderr",
     "output_type": "stream",
     "text": [
      "100%|██████████| 54/54 [00:05<00:00,  9.15it/s]\n"
     ]
    },
    {
     "name": "stdout",
     "output_type": "stream",
     "text": [
      "Total: 0.8071655631065369, N: 0.89806067943573, AF: 0.801152765750885, O: 0.7222831845283508, ACC: 0.8311840562719812\n"
     ]
    },
    {
     "name": "stderr",
     "output_type": "stream",
     "text": [
      "100%|██████████| 214/214 [00:23<00:00,  9.03it/s]\n"
     ]
    },
    {
     "name": "stdout",
     "output_type": "stream",
     "text": [
      "Total: 0.8187406659126282, N: 0.9169489741325378, AF: 0.7860187292098999, O: 0.7532542943954468, ACC: 0.8567868660216945\n"
     ]
    },
    {
     "name": "stderr",
     "output_type": "stream",
     "text": [
      "100%|██████████| 54/54 [00:05<00:00,  9.61it/s]"
     ]
    },
    {
     "name": "stdout",
     "output_type": "stream",
     "text": [
      "Total: 0.8060925006866455, N: 0.8972705006599426, AF: 0.8023256063461304, O: 0.7186813354492188, ACC: 0.8300117233294255\n"
     ]
    },
    {
     "name": "stderr",
     "output_type": "stream",
     "text": [
      "\n"
     ]
    }
   ],
   "source": [
    "F1t_quant_vec = []\n",
    "F1v_quant_vec = []\n",
    "\n",
    "for bb in range(16):\n",
    "    dsetnq_train = CINC7Dataset('../data/custom/physionet2017_4classes.hdf5',train=True,transform=DWTnNorm(4,cnn_normed.input_lmbda,cnn_normed.input_dlta,quant=True,b=b))\n",
    "    dsetnq_val = CINC7Dataset('../data/custom/physionet2017_4classes.hdf5',train=False,transform=DWTnNorm(4,cnn_normed.input_lmbda,cnn_normed.input_dlta,quant=True,b=b))\n",
    "    dlnq_train = DataLoader(dsetnq_train, batch_size=bs, shuffle=False, num_workers=0)\n",
    "    dlnq_val = DataLoader(dsetnq_val, batch_size=bs, shuffle=False, num_workers=0)\n",
    "\n",
    "    cnn_quant = WVCNN4()\n",
    "    cnn_quant.load_state_dict(cnn_normed.state_dict())\n",
    "    #cnn_quant = cnn_normed\n",
    "    cnn_quant.update_weights_with_quant(b=bb) # number of fractional bits for weights and bias\n",
    "    cnn_quant.q_actb = bb # number of fractional bits for activations\n",
    "    cnn_quant.quantize = True\n",
    "    cnn_quant.normed = True\n",
    "    cnn_quant.saturate = True\n",
    "    cnn_quant.eval()\n",
    "    F1t_quant_vec.append(eval_model(cnn_quant, dlnq_train,print_first=False))\n",
    "    F1v_quant_vec.append(eval_model(cnn_quant, dlnq_val,print_first=False))\n",
    "\n",
    "datt = [x1[0] for x1 in F1t_quant_vec]\n",
    "datv = [x2[0] for x2 in F1v_quant_vec]"
   ]
  },
  {
   "cell_type": "code",
   "execution_count": 39,
   "id": "d58a8f0b",
   "metadata": {},
   "outputs": [
    {
     "data": {
      "text/plain": [
       "[<matplotlib.lines.Line2D at 0x7f6dba7f1e50>]"
      ]
     },
     "execution_count": 39,
     "metadata": {},
     "output_type": "execute_result"
    },
    {
     "name": "stderr",
     "output_type": "stream",
     "text": [
      "findfont: Font family 'Arial' not found.\n",
      "findfont: Font family 'Arial' not found.\n",
      "findfont: Font family 'Arial' not found.\n",
      "findfont: Font family 'Arial' not found.\n",
      "findfont: Font family 'Arial' not found.\n",
      "findfont: Font family 'Arial' not found.\n",
      "findfont: Font family 'Arial' not found.\n",
      "findfont: Font family 'Arial' not found.\n",
      "findfont: Font family 'Arial' not found.\n",
      "findfont: Font family 'Arial' not found.\n",
      "findfont: Font family 'Arial' not found.\n",
      "findfont: Font family 'Arial' not found.\n",
      "findfont: Font family 'Arial' not found.\n",
      "findfont: Font family 'Arial' not found.\n",
      "findfont: Font family 'Arial' not found.\n",
      "findfont: Font family 'Arial' not found.\n",
      "findfont: Font family 'Arial' not found.\n",
      "findfont: Font family 'Arial' not found.\n",
      "findfont: Font family 'Arial' not found.\n",
      "findfont: Font family 'Arial' not found.\n",
      "findfont: Font family 'Arial' not found.\n",
      "findfont: Font family 'Arial' not found.\n",
      "findfont: Font family 'Arial' not found.\n",
      "findfont: Font family 'Arial' not found.\n",
      "findfont: Font family 'Arial' not found.\n",
      "findfont: Font family 'Arial' not found.\n",
      "findfont: Font family 'Arial' not found.\n",
      "findfont: Font family 'Arial' not found.\n",
      "findfont: Font family 'Arial' not found.\n",
      "findfont: Font family 'Arial' not found.\n",
      "findfont: Font family 'Arial' not found.\n",
      "findfont: Font family 'Arial' not found.\n",
      "findfont: Font family 'Arial' not found.\n",
      "findfont: Font family 'Arial' not found.\n",
      "findfont: Font family 'Arial' not found.\n",
      "findfont: Font family 'Arial' not found.\n",
      "findfont: Font family 'Arial' not found.\n",
      "findfont: Font family 'Arial' not found.\n",
      "findfont: Font family 'Arial' not found.\n",
      "findfont: Font family 'Arial' not found.\n",
      "findfont: Font family 'Arial' not found.\n",
      "findfont: Font family 'Arial' not found.\n",
      "findfont: Font family 'Arial' not found.\n",
      "findfont: Font family 'Arial' not found.\n",
      "findfont: Font family 'Arial' not found.\n",
      "findfont: Font family 'Arial' not found.\n",
      "findfont: Font family 'Arial' not found.\n",
      "findfont: Font family 'Arial' not found.\n",
      "findfont: Font family 'Arial' not found.\n",
      "findfont: Font family 'Arial' not found.\n",
      "findfont: Font family 'Arial' not found.\n",
      "findfont: Font family 'Arial' not found.\n",
      "findfont: Font family 'Arial' not found.\n",
      "findfont: Font family 'Arial' not found.\n",
      "findfont: Font family 'Arial' not found.\n",
      "findfont: Font family 'Arial' not found.\n",
      "findfont: Font family 'Arial' not found.\n",
      "findfont: Font family 'Arial' not found.\n",
      "findfont: Font family 'Arial' not found.\n",
      "findfont: Font family 'Arial' not found.\n",
      "findfont: Font family 'Arial' not found.\n",
      "findfont: Font family 'Arial' not found.\n",
      "findfont: Font family 'Arial' not found.\n",
      "findfont: Font family 'Arial' not found.\n",
      "findfont: Font family 'Arial' not found.\n",
      "findfont: Font family 'Arial' not found.\n",
      "findfont: Font family 'Arial' not found.\n",
      "findfont: Font family 'Arial' not found.\n",
      "findfont: Font family 'Arial' not found.\n",
      "findfont: Font family 'Arial' not found.\n"
     ]
    },
    {
     "data": {
      "image/png": "[encoded data removed]",
      "text/plain": [
       "<Figure size 640x480 with 1 Axes>"
      ]
     },
     "metadata": {},
     "output_type": "display_data"
    }
   ],
   "source": [
    "plt.plot(datt)\n",
    "plt.plot(datv)"
   ]
  },
  {
   "cell_type": "code",
   "execution_count": 40,
   "id": "29ba5414",
   "metadata": {},
   "outputs": [
    {
     "name": "stderr",
     "output_type": "stream",
     "text": [
      "findfont: Font family 'Arial' not found.\n",
      "findfont: Font family ['Arial'] not found. Falling back to DejaVu Sans.\n"
     ]
    },
    {
     "name": "stdout",
     "output_type": "stream",
     "text": [
      "[tensor(0.4816, dtype=torch.float32), tensor(0.7553, dtype=torch.float32), tensor(0.7658, dtype=torch.float32), tensor(0.7969, dtype=torch.float32), tensor(0.8035, dtype=torch.float32), tensor(0.8059, dtype=torch.float32), tensor(0.8072, dtype=torch.float32), tensor(0.8061, dtype=torch.float32)]\n"
     ]
    },
    {
     "name": "stderr",
     "output_type": "stream",
     "text": [
      "findfont: Font family 'Arial' not found.\n",
      "findfont: Font family 'Arial' not found.\n",
      "findfont: Font family 'Arial' not found.\n",
      "findfont: Font family 'Arial' not found.\n",
      "findfont: Font family 'Arial' not found.\n",
      "findfont: Font family 'Arial' not found.\n",
      "findfont: Font family 'Arial' not found.\n",
      "findfont: Font family 'Arial' not found.\n",
      "findfont: Font family 'Arial' not found.\n",
      "findfont: Font family 'Arial' not found.\n",
      "findfont: Font family 'Arial' not found.\n",
      "findfont: Font family 'Arial' not found.\n",
      "findfont: Font family 'Arial' not found.\n",
      "findfont: Font family 'Arial' not found.\n",
      "findfont: Font family 'Arial' not found.\n",
      "findfont: Font family 'Arial' not found.\n",
      "findfont: Font family 'Arial' not found.\n",
      "findfont: Font family 'Arial' not found.\n",
      "findfont: Font family 'Arial' not found.\n",
      "findfont: Font family 'Arial' not found.\n",
      "findfont: Font family 'Arial' not found.\n",
      "findfont: Font family 'Arial' not found.\n",
      "findfont: Font family 'Arial' not found.\n",
      "findfont: Font family 'Arial' not found.\n",
      "findfont: Font family 'Arial' not found.\n",
      "findfont: Font family 'Arial' not found.\n",
      "findfont: Font family 'Arial' not found.\n",
      "findfont: Font family 'Arial' not found.\n",
      "findfont: Font family 'Arial' not found.\n",
      "findfont: Font family 'Arial' not found.\n",
      "findfont: Font family 'Arial' not found.\n",
      "findfont: Font family 'Arial' not found.\n",
      "findfont: Font family 'Arial' not found.\n",
      "findfont: Font family 'Arial' not found.\n",
      "findfont: Font family 'Arial' not found.\n",
      "findfont: Font family 'Arial' not found.\n",
      "findfont: Font family 'Arial' not found.\n",
      "findfont: Font family 'Arial' not found.\n",
      "findfont: Font family 'Arial' not found.\n",
      "findfont: Font family 'Arial' not found.\n",
      "findfont: Font family 'Arial' not found.\n",
      "findfont: Font family 'Arial' not found.\n",
      "findfont: Font family 'Arial' not found.\n",
      "findfont: Font family 'Arial' not found.\n",
      "findfont: Font family 'Arial' not found.\n",
      "findfont: Font family 'Arial' not found.\n",
      "findfont: Font family 'Arial' not found.\n",
      "findfont: Font family 'Arial' not found.\n",
      "findfont: Font family 'Arial' not found.\n",
      "findfont: Font family 'Arial' not found.\n",
      "findfont: Font family 'Arial' not found.\n",
      "findfont: Font family 'Arial' not found.\n",
      "findfont: Font family 'Arial' not found.\n",
      "findfont: Font family 'Arial' not found.\n",
      "findfont: Font family 'Arial' not found.\n",
      "findfont: Font family 'Arial' not found.\n",
      "findfont: Font family 'Arial' not found.\n",
      "findfont: Font family 'Arial' not found.\n",
      "findfont: Font family 'Arial' not found.\n",
      "findfont: Font family 'Arial' not found.\n",
      "findfont: Font family 'Arial' not found.\n",
      "findfont: Font family 'Arial' not found.\n",
      "findfont: Font family 'Arial' not found.\n",
      "findfont: Font family 'Arial' not found.\n",
      "findfont: Font family 'Arial' not found.\n",
      "findfont: Font family 'Arial' not found.\n",
      "findfont: Font family 'Arial' not found.\n",
      "findfont: Font family 'Arial' not found.\n",
      "findfont: Font family 'Arial' not found.\n",
      "findfont: Font family 'Arial' not found.\n",
      "findfont: Font family 'Arial' not found.\n",
      "findfont: Font family 'Arial' not found.\n",
      "findfont: Font family 'Arial' not found.\n",
      "findfont: Font family 'Arial' not found.\n",
      "findfont: Font family 'Arial' not found.\n",
      "findfont: Font family 'Arial' not found.\n",
      "findfont: Font family 'Arial' not found.\n",
      "findfont: Font family 'Arial' not found.\n",
      "findfont: Font family 'Arial' not found.\n",
      "findfont: Font family 'Arial' not found.\n",
      "findfont: Font family 'Arial' not found.\n",
      "findfont: Font family 'Arial' not found.\n",
      "findfont: Font family 'Arial' not found.\n",
      "findfont: Font family 'Arial' not found.\n",
      "findfont: Font family 'Arial' not found.\n",
      "findfont: Font family 'Arial' not found.\n",
      "findfont: Font family 'Arial' not found.\n",
      "findfont: Font family 'Arial' not found.\n",
      "findfont: Font family 'Arial' not found.\n",
      "findfont: Font family 'Arial' not found.\n",
      "findfont: Font family 'Arial' not found.\n",
      "findfont: Font family 'Arial' not found.\n",
      "findfont: Font family 'Arial' not found.\n",
      "findfont: Font family 'Arial' not found.\n",
      "findfont: Font family 'Arial' not found.\n",
      "findfont: Font family 'Arial' not found.\n",
      "findfont: Font family 'Arial' not found.\n",
      "findfont: Font family 'Arial' not found.\n",
      "findfont: Font family 'Arial' not found.\n",
      "findfont: Font family 'Arial' not found.\n",
      "findfont: Font family 'Arial' not found.\n",
      "findfont: Font family 'Arial' not found.\n",
      "findfont: Font family 'Arial' not found.\n",
      "findfont: Font family 'Arial' not found.\n",
      "findfont: Font family 'Arial' not found.\n",
      "findfont: Font family 'Arial' not found.\n",
      "findfont: Font family 'Arial' not found.\n",
      "findfont: Font family 'Arial' not found.\n",
      "findfont: Font family 'Arial' not found.\n",
      "findfont: Font family 'Arial' not found.\n",
      "findfont: Font family 'Arial' not found.\n",
      "findfont: Font family 'Arial' not found.\n",
      "findfont: Font family 'Arial' not found.\n",
      "findfont: Font family 'Arial' not found.\n",
      "findfont: Font family 'Arial' not found.\n",
      "findfont: Font family 'Arial' not found.\n",
      "findfont: Font family 'Arial' not found.\n",
      "findfont: Font family 'Arial' not found.\n",
      "findfont: Font family 'Arial' not found.\n",
      "findfont: Font family 'Arial' not found.\n",
      "findfont: Font family 'Arial' not found.\n",
      "findfont: Font family 'Arial' not found.\n",
      "findfont: Font family 'Arial' not found.\n",
      "findfont: Font family 'Arial' not found.\n",
      "findfont: Font family 'Arial' not found.\n",
      "findfont: Font family 'Arial' not found.\n"
     ]
    },
    {
     "data": {
      "image/png": "[encoded data removed]",
      "text/plain": [
       "<Figure size 400x300 with 1 Axes>"
      ]
     },
     "metadata": {},
     "output_type": "display_data"
    }
   ],
   "source": [
    "print(datv[8:])\n",
    "\n",
    "datx = np.logspace(0, 15, num=16, endpoint=True, base=2.0, dtype=None, axis=0)\n",
    "paretoidx = [8,9,10,11,12,13,15]\n",
    "\n",
    "plotx = [datx[ii] for ii in paretoidx]\n",
    "ploty = [datv[ii] for ii in paretoidx]\n",
    "\n",
    "ax = plt.figure(figsize=[4,3])\n",
    "plt.step(plotx,ploty, where='post',linestyle='--',c='b',linewidth=0.9)\n",
    "plt.scatter(plotx,ploty,c='r',marker='x')\n",
    "\n",
    "\n",
    "plt.xlabel('Number of Cycles')\n",
    "plt.ylabel('Validation F1')\n",
    "#plt.xlim([1e2,1e5])\n",
    "plt.ylim([0.45,0.85])\n",
    "plt.grid(which='both')\n",
    "plt.xscale('log')\n",
    "\n",
    "plt.savefig('timeencode_qosvscyc.png',dpi=600, bbox_inches = \"tight\")\n",
    "plt.savefig('timeencode_qosvscyc.pdf',format='pdf', bbox_inches = \"tight\")"
   ]
  },
  {
   "cell_type": "code",
   "execution_count": 41,
   "id": "e160ab14",
   "metadata": {},
   "outputs": [
    {
     "name": "stderr",
     "output_type": "stream",
     "text": [
      "findfont: Font family 'Arial' not found.\n",
      "findfont: Font family 'Arial' not found.\n",
      "findfont: Font family 'Arial' not found.\n",
      "findfont: Font family 'Arial' not found.\n",
      "findfont: Font family 'Arial' not found.\n",
      "findfont: Font family 'Arial' not found.\n",
      "findfont: Font family 'Arial' not found.\n",
      "findfont: Font family 'Arial' not found.\n",
      "findfont: Font family 'Arial' not found.\n",
      "findfont: Font family 'Arial' not found.\n",
      "findfont: Font family 'Arial' not found.\n",
      "findfont: Font family 'Arial' not found.\n",
      "findfont: Font family 'Arial' not found.\n",
      "findfont: Font family 'Arial' not found.\n",
      "findfont: Font family 'Arial' not found.\n",
      "findfont: Font family 'Arial' not found.\n",
      "findfont: Font family 'Arial' not found.\n",
      "findfont: Font family 'Arial' not found.\n",
      "findfont: Font family 'Arial' not found.\n",
      "findfont: Font family 'Arial' not found.\n",
      "findfont: Font family 'Arial' not found.\n",
      "findfont: Font family 'Arial' not found.\n",
      "findfont: Font family 'Arial' not found.\n",
      "findfont: Font family 'Arial' not found.\n",
      "findfont: Font family 'Arial' not found.\n",
      "findfont: Font family 'Arial' not found.\n",
      "findfont: Font family 'Arial' not found.\n",
      "findfont: Font family 'Arial' not found.\n",
      "findfont: Font family 'Arial' not found.\n",
      "findfont: Font family 'Arial' not found.\n",
      "findfont: Font family 'Arial' not found.\n",
      "findfont: Font family 'Arial' not found.\n",
      "findfont: Font family 'Arial' not found.\n",
      "findfont: Font family 'Arial' not found.\n",
      "findfont: Font family 'Arial' not found.\n",
      "findfont: Font family 'Arial' not found.\n",
      "findfont: Font family 'Arial' not found.\n",
      "findfont: Font family 'Arial' not found.\n",
      "findfont: Font family 'Arial' not found.\n",
      "findfont: Font family 'Arial' not found.\n",
      "findfont: Font family 'Arial' not found.\n",
      "findfont: Font family 'Arial' not found.\n",
      "findfont: Font family 'Arial' not found.\n",
      "findfont: Font family 'Arial' not found.\n",
      "findfont: Font family 'Arial' not found.\n",
      "findfont: Font family 'Arial' not found.\n",
      "findfont: Font family 'Arial' not found.\n",
      "findfont: Font family 'Arial' not found.\n",
      "findfont: Font family 'Arial' not found.\n",
      "findfont: Font family 'Arial' not found.\n",
      "findfont: Font family 'Arial' not found.\n",
      "findfont: Font family 'Arial' not found.\n",
      "findfont: Font family 'Arial' not found.\n",
      "findfont: Font family 'Arial' not found.\n",
      "findfont: Font family 'Arial' not found.\n",
      "findfont: Font family 'Arial' not found.\n",
      "findfont: Font family 'Arial' not found.\n",
      "findfont: Font family 'Arial' not found.\n",
      "findfont: Font family 'Arial' not found.\n",
      "findfont: Font family 'Arial' not found.\n",
      "findfont: Font family 'Arial' not found.\n",
      "findfont: Font family 'Arial' not found.\n",
      "findfont: Font family 'Arial' not found.\n",
      "findfont: Font family 'Arial' not found.\n",
      "findfont: Font family 'Arial' not found.\n",
      "findfont: Font family 'Arial' not found.\n",
      "findfont: Font family 'Arial' not found.\n",
      "findfont: Font family 'Arial' not found.\n",
      "findfont: Font family 'Arial' not found.\n",
      "findfont: Font family 'Arial' not found.\n",
      "findfont: Font family 'Arial' not found.\n",
      "findfont: Font family 'Arial' not found.\n",
      "findfont: Font family 'Arial' not found.\n",
      "findfont: Font family 'Arial' not found.\n",
      "findfont: Font family 'Arial' not found.\n",
      "findfont: Font family 'Arial' not found.\n",
      "findfont: Font family 'Arial' not found.\n",
      "findfont: Font family 'Arial' not found.\n",
      "findfont: Font family 'Arial' not found.\n",
      "findfont: Font family 'Arial' not found.\n",
      "findfont: Font family 'Arial' not found.\n",
      "findfont: Font family 'Arial' not found.\n",
      "findfont: Font family 'Arial' not found.\n",
      "findfont: Font family 'Arial' not found.\n",
      "findfont: Font family 'Arial' not found.\n",
      "findfont: Font family 'Arial' not found.\n",
      "findfont: Font family 'Arial' not found.\n",
      "findfont: Font family 'Arial' not found.\n",
      "findfont: Font family 'Arial' not found.\n",
      "findfont: Font family 'Arial' not found.\n",
      "findfont: Font family 'Arial' not found.\n",
      "findfont: Font family 'Arial' not found.\n",
      "findfont: Font family 'Arial' not found.\n",
      "findfont: Font family 'Arial' not found.\n",
      "findfont: Font family 'Arial' not found.\n",
      "findfont: Font family 'Arial' not found.\n",
      "findfont: Font family 'Arial' not found.\n",
      "findfont: Font family 'Arial' not found.\n",
      "findfont: Font family 'Arial' not found.\n",
      "findfont: Font family 'Arial' not found.\n",
      "findfont: Font family 'Arial' not found.\n",
      "findfont: Font family 'Arial' not found.\n",
      "findfont: Font family 'Arial' not found.\n",
      "findfont: Font family 'Arial' not found.\n",
      "findfont: Font family 'Arial' not found.\n",
      "findfont: Font family 'Arial' not found.\n",
      "findfont: Font family 'Arial' not found.\n",
      "findfont: Font family 'Arial' not found.\n",
      "findfont: Font family 'Arial' not found.\n",
      "findfont: Font family 'Arial' not found.\n",
      "findfont: Font family 'Arial' not found.\n",
      "findfont: Font family 'Arial' not found.\n",
      "findfont: Font family 'Arial' not found.\n",
      "findfont: Font family 'Arial' not found.\n",
      "findfont: Font family 'Arial' not found.\n",
      "findfont: Font family 'Arial' not found.\n",
      "findfont: Font family 'Arial' not found.\n",
      "findfont: Font family 'Arial' not found.\n",
      "findfont: Font family 'Arial' not found.\n",
      "findfont: Font family 'Arial' not found.\n",
      "findfont: Font family 'Arial' not found.\n",
      "findfont: Font family 'Arial' not found.\n",
      "findfont: Font family 'Arial' not found.\n",
      "findfont: Font family 'Arial' not found.\n",
      "findfont: Font family 'Arial' not found.\n",
      "findfont: Font family 'Arial' not found.\n",
      "findfont: Font family 'Arial' not found.\n",
      "findfont: Font family 'Arial' not found.\n",
      "findfont: Font family 'Arial' not found.\n",
      "findfont: Font family 'Arial' not found.\n",
      "findfont: Font family 'Arial' not found.\n",
      "findfont: Font family 'Arial' not found.\n",
      "findfont: Font family 'Arial' not found.\n",
      "findfont: Font family 'Arial' not found.\n",
      "findfont: Font family 'Arial' not found.\n",
      "findfont: Font family 'Arial' not found.\n",
      "findfont: Font family 'Arial' not found.\n",
      "findfont: Font family 'Arial' not found.\n",
      "findfont: Font family 'Arial' not found.\n",
      "findfont: Font family 'Arial' not found.\n",
      "findfont: Font family 'Arial' not found.\n",
      "findfont: Font family 'Arial' not found.\n",
      "findfont: Font family 'Arial' not found.\n",
      "findfont: Font family 'Arial' not found.\n",
      "findfont: Font family 'Arial' not found.\n",
      "findfont: Font family 'Arial' not found.\n",
      "findfont: Font family 'Arial' not found.\n",
      "findfont: Font family 'Arial' not found.\n",
      "findfont: Font family 'Arial' not found.\n",
      "findfont: Font family 'Arial' not found.\n",
      "findfont: Font family 'Arial' not found.\n",
      "findfont: Font family 'Arial' not found.\n",
      "findfont: Font family 'Arial' not found.\n",
      "findfont: Font family 'Arial' not found.\n",
      "findfont: Font family 'Arial' not found.\n",
      "findfont: Font family 'Arial' not found.\n",
      "findfont: Font family 'Arial' not found.\n",
      "findfont: Font family 'Arial' not found.\n",
      "findfont: Font family 'Arial' not found.\n",
      "findfont: Font family 'Arial' not found.\n",
      "findfont: Font family 'Arial' not found.\n",
      "findfont: Font family 'Arial' not found.\n",
      "findfont: Font family 'Arial' not found.\n",
      "findfont: Font family 'Arial' not found.\n",
      "findfont: Font family 'Arial' not found.\n",
      "findfont: Font family 'Arial' not found.\n",
      "findfont: Font family 'Arial' not found.\n",
      "findfont: Font family 'Arial' not found.\n",
      "findfont: Font family 'Arial' not found.\n",
      "findfont: Font family 'Arial' not found.\n",
      "findfont: Font family 'Arial' not found.\n",
      "findfont: Font family 'Arial' not found.\n",
      "findfont: Font family 'Arial' not found.\n",
      "findfont: Font family 'Arial' not found.\n",
      "findfont: Font family 'Arial' not found.\n",
      "findfont: Font family 'Arial' not found.\n",
      "findfont: Font family 'Arial' not found.\n",
      "findfont: Font family 'Arial' not found.\n",
      "findfont: Font family 'Arial' not found.\n",
      "findfont: Font family 'Arial' not found.\n",
      "findfont: Font family 'Arial' not found.\n",
      "findfont: Font family 'Arial' not found.\n",
      "findfont: Font family 'Arial' not found.\n",
      "findfont: Font family 'Arial' not found.\n",
      "findfont: Font family 'Arial' not found.\n",
      "findfont: Font family 'Arial' not found.\n",
      "findfont: Font family 'Arial' not found.\n",
      "findfont: Font family 'Arial' not found.\n",
      "findfont: Font family 'Arial' not found.\n",
      "findfont: Font family 'Arial' not found.\n",
      "findfont: Font family 'Arial' not found.\n",
      "findfont: Font family 'Arial' not found.\n",
      "findfont: Font family 'Arial' not found.\n",
      "findfont: Font family 'Arial' not found.\n",
      "findfont: Font family 'Arial' not found.\n",
      "findfont: Font family 'Arial' not found.\n",
      "findfont: Font family 'Arial' not found.\n",
      "findfont: Font family 'Arial' not found.\n",
      "findfont: Font family 'Arial' not found.\n",
      "findfont: Font family 'Arial' not found.\n",
      "findfont: Font family 'Arial' not found.\n",
      "findfont: Font family 'Arial' not found.\n",
      "findfont: Font family 'Arial' not found.\n",
      "findfont: Font family 'Arial' not found.\n",
      "findfont: Font family 'Arial' not found.\n",
      "findfont: Font family 'Arial' not found.\n",
      "findfont: Font family 'Arial' not found.\n",
      "findfont: Font family 'Arial' not found.\n",
      "findfont: Font family 'Arial' not found.\n",
      "findfont: Font family 'Arial' not found.\n",
      "findfont: Font family 'Arial' not found.\n",
      "findfont: Font family 'Arial' not found.\n",
      "findfont: Font family 'Arial' not found.\n",
      "findfont: Font family 'Arial' not found.\n",
      "findfont: Font family 'Arial' not found.\n",
      "findfont: Font family 'Arial' not found.\n",
      "findfont: Font family 'Arial' not found.\n",
      "findfont: Font family 'Arial' not found.\n",
      "findfont: Font family 'Arial' not found.\n",
      "findfont: Font family 'Arial' not found.\n",
      "findfont: Font family 'Arial' not found.\n",
      "findfont: Font family 'Arial' not found.\n",
      "findfont: Font family 'Arial' not found.\n",
      "findfont: Font family 'Arial' not found.\n",
      "findfont: Font family 'Arial' not found.\n",
      "findfont: Font family 'Arial' not found.\n",
      "findfont: Font family 'Arial' not found.\n",
      "findfont: Font family 'Arial' not found.\n",
      "findfont: Font family 'Arial' not found.\n",
      "findfont: Font family 'Arial' not found.\n",
      "findfont: Font family 'Arial' not found.\n",
      "findfont: Font family 'Arial' not found.\n",
      "findfont: Font family 'Arial' not found.\n",
      "findfont: Font family 'Arial' not found.\n",
      "findfont: Font family 'Arial' not found.\n",
      "findfont: Font family 'Arial' not found.\n",
      "findfont: Font family 'Arial' not found.\n",
      "findfont: Font family 'Arial' not found.\n",
      "findfont: Font family 'Arial' not found.\n",
      "findfont: Font family 'Arial' not found.\n",
      "findfont: Font family 'Arial' not found.\n",
      "findfont: Font family 'Arial' not found.\n",
      "findfont: Font family 'Arial' not found.\n",
      "findfont: Font family 'Arial' not found.\n",
      "findfont: Font family 'Arial' not found.\n",
      "findfont: Font family 'Arial' not found.\n",
      "findfont: Font family 'Arial' not found.\n",
      "findfont: Font family 'Arial' not found.\n",
      "findfont: Font family 'Arial' not found.\n",
      "findfont: Font family 'Arial' not found.\n",
      "findfont: Font family 'Arial' not found.\n",
      "findfont: Font family 'Arial' not found.\n",
      "findfont: Font family 'Arial' not found.\n",
      "findfont: Font family 'Arial' not found.\n",
      "findfont: Font family 'Arial' not found.\n",
      "findfont: Font family 'Arial' not found.\n",
      "findfont: Font family 'Arial' not found.\n",
      "findfont: Font family 'Arial' not found.\n",
      "findfont: Font family 'Arial' not found.\n",
      "findfont: Font family 'Arial' not found.\n",
      "findfont: Font family 'Arial' not found.\n",
      "findfont: Font family 'Arial' not found.\n",
      "findfont: Font family 'Arial' not found.\n",
      "findfont: Font family 'Arial' not found.\n",
      "findfont: Font family 'Arial' not found.\n",
      "findfont: Font family 'Arial' not found.\n",
      "findfont: Font family 'Arial' not found.\n",
      "findfont: Font family 'Arial' not found.\n",
      "findfont: Font family 'Arial' not found.\n",
      "findfont: Font family 'Arial' not found.\n",
      "findfont: Font family 'Arial' not found.\n",
      "findfont: Font family 'Arial' not found.\n",
      "findfont: Font family 'Arial' not found.\n",
      "findfont: Font family 'Arial' not found.\n",
      "findfont: Font family 'Arial' not found.\n",
      "findfont: Font family 'Arial' not found.\n",
      "findfont: Font family 'Arial' not found.\n",
      "findfont: Font family 'Arial' not found.\n",
      "findfont: Font family 'Arial' not found.\n",
      "findfont: Font family 'Arial' not found.\n",
      "findfont: Font family 'Arial' not found.\n",
      "findfont: Font family 'Arial' not found.\n",
      "findfont: Font family 'Arial' not found.\n",
      "findfont: Font family 'Arial' not found.\n",
      "findfont: Font family 'Arial' not found.\n",
      "findfont: Font family 'Arial' not found.\n",
      "findfont: Font family 'Arial' not found.\n",
      "findfont: Font family 'Arial' not found.\n",
      "findfont: Font family 'Arial' not found.\n",
      "findfont: Font family 'Arial' not found.\n",
      "findfont: Font family 'Arial' not found.\n",
      "findfont: Font family 'Arial' not found.\n",
      "findfont: Font family 'Arial' not found.\n",
      "findfont: Font family 'Arial' not found.\n",
      "findfont: Font family 'Arial' not found.\n",
      "findfont: Font family 'Arial' not found.\n",
      "findfont: Font family 'Arial' not found.\n",
      "findfont: Font family 'Arial' not found.\n",
      "findfont: Font family 'Arial' not found.\n",
      "findfont: Font family 'Arial' not found.\n",
      "findfont: Font family 'Arial' not found.\n",
      "findfont: Font family 'Arial' not found.\n",
      "findfont: Font family 'Arial' not found.\n",
      "findfont: Font family 'Arial' not found.\n",
      "findfont: Font family 'Arial' not found.\n",
      "findfont: Font family 'Arial' not found.\n",
      "findfont: Font family 'Arial' not found.\n",
      "findfont: Font family 'Arial' not found.\n",
      "findfont: Font family 'Arial' not found.\n",
      "findfont: Font family 'Arial' not found.\n",
      "findfont: Font family 'Arial' not found.\n",
      "findfont: Font family 'Arial' not found.\n",
      "findfont: Font family 'Arial' not found.\n",
      "findfont: Font family 'Arial' not found.\n",
      "findfont: Font family 'Arial' not found.\n",
      "findfont: Font family 'Arial' not found.\n",
      "findfont: Font family 'Arial' not found.\n",
      "findfont: Font family 'Arial' not found.\n",
      "findfont: Font family 'Arial' not found.\n",
      "findfont: Font family 'Arial' not found.\n",
      "findfont: Font family 'Arial' not found.\n",
      "findfont: Font family 'Arial' not found.\n",
      "findfont: Font family 'Arial' not found.\n",
      "findfont: Font family 'Arial' not found.\n",
      "findfont: Font family 'Arial' not found.\n",
      "findfont: Font family 'Arial' not found.\n",
      "findfont: Font family 'Arial' not found.\n",
      "findfont: Font family 'Arial' not found.\n",
      "findfont: Font family 'Arial' not found.\n"
     ]
    },
    {
     "data": {
      "image/png": "[encoded data removed]",
      "text/plain": [
       "<Figure size 600x300 with 1 Axes>"
      ]
     },
     "metadata": {},
     "output_type": "display_data"
    }
   ],
   "source": [
    "x0 = np.array([2,4,5,7])*0.1\n",
    "w = np.array([1,2,-4,1])\n",
    "\n",
    "x1 = np.array([ 0, 0, 1, 0, 2,-4, 0, 1, 0])\n",
    "x2 = np.array([ 0, 0, 1, 1, 3,-1,-1, 0, 0])\n",
    "x3 = np.array([ 0, 0, 0, 1, 2, 5, 4, 3, 3])\n",
    "\n",
    "x = np.arange(0,1.1,0.125)\n",
    "\n",
    "\n",
    "ax = plt.figure(figsize=[6,3])\n",
    "plt.stem(x,x1,basefmt=\" \")\n",
    "plt.step(x,x2,'g', where='post')\n",
    "plt.plot(x,x3,'r')\n",
    "plt.xlim([0,1])\n",
    "plt.ylim([-5,6])\n",
    "plt.xlabel('Time t')\n",
    "#plt.ylabel('')\n",
    "plt.grid(which='both')\n",
    "plt.legend([r'$\\Delta w$',r'$u$',r'$w_{inc}$'])\n",
    "plt.xticks(x)\n",
    "\n",
    "plt.savefig('timeencode_min_example.png',dpi=600, bbox_inches = \"tight\")\n",
    "plt.savefig('timeencode_min_example.pdf',format='pdf', bbox_inches = \"tight\")\n"
   ]
  },
  {
   "cell_type": "code",
   "execution_count": 42,
   "id": "928348b8",
   "metadata": {},
   "outputs": [
    {
     "data": {
      "text/plain": [
       "array([0.   , 0.125, 0.25 , 0.375, 0.5  , 0.625, 0.75 , 0.875, 1.   ])"
      ]
     },
     "execution_count": 42,
     "metadata": {},
     "output_type": "execute_result"
    }
   ],
   "source": [
    "x"
   ]
  },
  {
   "cell_type": "code",
   "execution_count": 43,
   "id": "2d12bc67-5fbc-4872-b5d0-d1ab79d6c426",
   "metadata": {},
   "outputs": [
    {
     "data": {
      "text/plain": [
       "tensor([[ 0.0966, -0.0689,  0.0584, -0.0837]])"
      ]
     },
     "execution_count": 43,
     "metadata": {},
     "output_type": "execute_result"
    }
   ],
   "source": [
    "# Output of quantized version in pytorch (!! NOT EQUAL to Matlab version due to rounding scheme !!)\n",
    "# roundig scheme should be fixed via custom round_halfup\n",
    "dwt_in = dwts[2].unsqueeze(0).unsqueeze(0) * cnn_normed.input_lmbda + cnn_normed.input_dlta\n",
    "res = cnn_quant(dwt_in)\n",
    "res\n",
    "#dwts[2]"
   ]
  },
  {
   "cell_type": "code",
   "execution_count": 44,
   "id": "0d833dc1-93a1-44ab-a848-a6b9e59740de",
   "metadata": {},
   "outputs": [],
   "source": [
    "# d = next(iter(dln_train))\n",
    "# dq = next(iter(dlnq_train))\n",
    "\n",
    "# # rough distribution of fixed-point DWT (weights and activations of filter quantized in each stage -> 4 stages) and floating-point DWT\n",
    "# # one batch\n",
    "# plt.figure(0,figsize=[25,10])\n",
    "# ax1 = plt.subplot(1, 2, 1)\n",
    "# plt.hist(d['data_in'][0].flatten(),range=(0.45,0.5),bins=1000);\n",
    "# plt.hist(dq['data_in'][0].flatten(),range=(0.45,0.5),bins=1000);\n",
    "# plt.grid()\n",
    "\n",
    "# ax2 = plt.subplot(1, 2, 2)\n",
    "# plt.hist(d['data_in'][0].flatten(),range=(0.45,0.5),bins=1000);\n",
    "# plt.hist(dq['data_in'][0].flatten(),range=(0.45,0.5),bins=1000);\n",
    "# plt.ylim([0, 35])\n",
    "# plt.grid()"
   ]
  },
  {
   "cell_type": "code",
   "execution_count": 45,
   "id": "719fd3a6-246c-40c4-809a-858df2aaef52",
   "metadata": {},
   "outputs": [],
   "source": [
    "# def q(x,b):\n",
    "#     # no saturation!\n",
    "#     result = torch.round(x * 2**b) / 2**b\n",
    "#     return result \n",
    "\n",
    "# db2wvlt = pywt.Wavelet('db2')\n",
    "# # floating point values in python are stored as double precision values\n",
    "# print(type(db2wvlt.dec_lo[0]))\n",
    "\n",
    "\n",
    "# dlo_fp64 = np.array(db2wvlt.dec_lo,dtype=np.float64)\n",
    "# dlo_fp64 = torch.from_numpy(dlo_fp64)\n",
    "# dhi_fp64 = np.array(db2wvlt.dec_hi,dtype=np.float64)\n",
    "# dhi_fp64 = torch.from_numpy(dhi_fp64)\n",
    "# print(dlo_fp64.dtype)\n",
    "# print(dlo_fp64)\n",
    "# print(dhi_fp64)\n",
    "# dlo = q(dlo_fp64,b)\n",
    "# dhi = q(dhi_fp64,b)\n",
    "# print(dlo.dtype)\n",
    "# print(dlo)\n",
    "# print(dhi)\n",
    "\n",
    "# edlo_abs = torch.abs(dlo-dlo_fp64)\n",
    "# edlo_rmse = torch.sqrt(torch.mean(edlo_abs**2))\n",
    "# edhi_abs = torch.abs(dhi-dhi_fp64)\n",
    "# edhi_rmse = torch.sqrt(torch.mean(edhi_abs**2))\n",
    "# print(f'Lowpass Coefficient RMSE due to quantization: {edlo_rmse}')\n",
    "# print(f'Highpass Coefficient RMSE due to quantization: {edhi_rmse}')\n",
    "# torch.zeros((1,18000)).dtype"
   ]
  },
  {
   "cell_type": "code",
   "execution_count": 46,
   "id": "a6739e22-b4ec-4421-8923-6e70fcd2d470",
   "metadata": {},
   "outputs": [],
   "source": [
    "# # Test rounding fcn\n",
    "# import math\n",
    "# x = -0.5\n",
    "\n",
    "# def round_halfup(x):\n",
    "#     return math.ceil(math.floor(2*x)/2)\n",
    "\n",
    "# test = round_halfup(x)\n",
    "# test"
   ]
  }
 ],
 "metadata": {
  "kernelspec": {
   "display_name": "Python 3.8.10 64-bit",
   "language": "python",
   "name": "python3"
  },
  "language_info": {
   "codemirror_mode": {
    "name": "ipython",
    "version": 3
   },
   "file_extension": ".py",
   "mimetype": "text/x-python",
   "name": "python",
   "nbconvert_exporter": "python",
   "pygments_lexer": "ipython3",
   "version": "3.11.2"
  },
  "toc-autonumbering": true,
  "toc-showmarkdowntxt": true,
  "vscode": {
   "interpreter": {
    "hash": "e7370f93d1d0cde622a1f8e1c04877d8463912d04d973331ad4851f04de6915a"
   }
  }
 },
 "nbformat": 4,
 "nbformat_minor": 5
}
