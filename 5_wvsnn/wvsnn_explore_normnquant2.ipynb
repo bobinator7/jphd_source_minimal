{
 "cells": [
  {
   "cell_type": "code",
   "execution_count": 1,
   "id": "7d464422-7693-4dc9-9478-dd7acd2bab19",
   "metadata": {},
   "outputs": [
    {
     "name": "stderr",
     "output_type": "stream",
     "text": [
      "/home/john/venv_generic/lib/python3.11/site-packages/torch/__init__.py:614: UserWarning: torch.set_default_tensor_type() is deprecated as of PyTorch 2.1, please use torch.set_default_dtype() and torch.set_default_device() as alternatives. (Triggered internally at ../torch/csrc/tensor/python_tensor.cpp:451.)\n",
      "  _C._set_default_tensor_type(t)\n"
     ]
    }
   ],
   "source": [
    "#!/usr/bin/env python\n",
    "# coding: utf-8\n",
    "\n",
    "##### libraries\n",
    "## 3rd party\n",
    "from __future__ import print_function\n",
    "import pywt\n",
    "import math\n",
    "import numpy as np\n",
    "import matplotlib.pyplot as plt\n",
    "plt.rcParams['font.family'] = 'san-serif'\n",
    "plt.rcParams['font.sans-serif'] = 'Arial'\n",
    "import copy\n",
    "import pdb\n",
    "import csv\n",
    "from tqdm import tqdm\n",
    "\n",
    "import torch\n",
    "import torch.nn as nn\n",
    "import torch.nn.functional as F\n",
    "import torch.optim as optim\n",
    "from torch.utils.data import Dataset, DataLoader\n",
    "torch.set_default_tensor_type(torch.DoubleTensor)\n",
    "\n",
    "# ignore package deprecation warnings\n",
    "import warnings\n",
    "warnings.filterwarnings(\"ignore\")\n",
    "\n",
    "## custom\n",
    "from utils.data_formatting import HDF5Dataset\n",
    "from utils.common import *"
   ]
  },
  {
   "cell_type": "code",
   "execution_count": 2,
   "id": "07492825-f0ff-4e01-8dec-c13cfa5fbc87",
   "metadata": {},
   "outputs": [],
   "source": [
    "##### parameters\n",
    "val_fold = 4\n",
    "bs = 32\n",
    "b=12"
   ]
  },
  {
   "cell_type": "code",
   "execution_count": 3,
   "id": "e7e42937-33e2-407d-bc42-4367e734048f",
   "metadata": {},
   "outputs": [],
   "source": [
    "dset_train = CINC7Dataset('../data/custom/physionet2017_4classes.hdf5',train=True,transform=DWT(4))\n",
    "dset_val = CINC7Dataset('../data/custom/physionet2017_4classes.hdf5',train=False,transform=DWT(4))\n",
    "\n",
    "dl_train = DataLoader(dset_train, batch_size=bs, shuffle=False, num_workers=0)\n",
    "dl_val = DataLoader(dset_val, batch_size=bs, shuffle=False, num_workers=0)"
   ]
  },
  {
   "cell_type": "code",
   "execution_count": 4,
   "id": "4b2d3089-d7a2-4b3a-8e28-6fce9ec71c4e",
   "metadata": {},
   "outputs": [
    {
     "data": {
      "text/plain": [
       "<All keys matched successfully>"
      ]
     },
     "execution_count": 4,
     "metadata": {},
     "output_type": "execute_result"
    }
   ],
   "source": [
    "##### main code\n",
    "# load networks\n",
    "model_path = f'snn_ref/model_fold{val_fold}.pt'\n",
    "cnn = WVCNN4()\n",
    "cnn.load_state_dict(torch.load(model_path).state_dict(), strict=False)\n",
    "cnn_bninteg = WVCNN4()\n",
    "cnn_bninteg.normed = True\n",
    "cnn_bninteg.load_state_dict(cnn.state_dict())"
   ]
  },
  {
   "cell_type": "code",
   "execution_count": 5,
   "id": "de005105-5feb-431f-8b20-c896d15c06ee",
   "metadata": {},
   "outputs": [
    {
     "name": "stderr",
     "output_type": "stream",
     "text": [
      "100%|██████████| 8528/8528 [00:16<00:00, 512.54it/s]\n"
     ]
    }
   ],
   "source": [
    "#\"\"\"\n",
    "# import and format physionet data\n",
    "data_raw = HDF5Dataset('../data/custom/physionet2017_4classes.hdf5', True)\n",
    "\n",
    "# convert to slicable data\n",
    "ecgs = torch.empty(len(data_raw),18000)\n",
    "dwts = torch.empty(len(data_raw),2,1127)\n",
    "lbls = torch.empty(len(data_raw))\n",
    "for ii,data in enumerate(tqdm(data_raw)):\n",
    "    if len(data[0][0]) >= 18000:\n",
    "        data_in = data[0][:,0:18000]\n",
    "    else:\n",
    "        data_in = torch.zeros((1,18000))\n",
    "        data_in[0,0:len(data[0][0])] = data[0]\n",
    "    ecgs[ii,:] = data_in\n",
    "    dwt_tmp = pywt.wavedec(data_in,'db2',level=4)\n",
    "    dwts[ii,:,:] = torch.tensor(np.concatenate((dwt_tmp[0],dwt_tmp[1]),0))\n",
    "    lbls[ii] = data[1]\n",
    "#\"\"\""
   ]
  },
  {
   "cell_type": "code",
   "execution_count": 6,
   "id": "cfb2f27f-7b07-4362-a04c-ea943bac834d",
   "metadata": {},
   "outputs": [],
   "source": [
    "#\"\"\"\n",
    "# get train/test for normalization\n",
    "fold_idx = split_into_5folds(lbls)\n",
    "train_idx = (fold_idx!=val_fold)\n",
    "val_idx = (fold_idx==val_fold)\n",
    "\n",
    "dwt_val = dwts[val_idx].unsqueeze(1)\n",
    "dwt_train = dwts[train_idx].unsqueeze(1)\n",
    "\n",
    "lbl_val = lbls[val_idx].long()\n",
    "lbl_train = lbls[train_idx].long()\n",
    "#\"\"\""
   ]
  },
  {
   "cell_type": "code",
   "execution_count": 7,
   "id": "3043e7f9-e268-44ed-8512-15744fc0f9f0",
   "metadata": {},
   "outputs": [
    {
     "name": "stderr",
     "output_type": "stream",
     "text": [
      "  1%|          | 2/214 [00:00<00:15, 13.52it/s]"
     ]
    },
    {
     "name": "stdout",
     "output_type": "stream",
     "text": [
      "tensor([[ 3.9823, -2.5904,  1.3450, -2.6394],\n",
      "        [ 1.6625, -1.1305,  0.0781, -0.5590],\n",
      "        [ 2.7647, -1.9413,  1.5864, -2.3459],\n",
      "        [-1.0916,  2.4546,  1.2464, -2.4800],\n",
      "        [-6.4831,  6.2422,  4.1548, -3.5330],\n",
      "        [ 3.3940, -1.9636,  1.2760, -2.6138],\n",
      "        [ 2.8489, -1.6963,  1.2443, -2.3048],\n",
      "        [ 0.7253, -1.7211,  3.9823, -2.7965],\n",
      "        [-1.6297,  2.6756,  1.2523, -2.2148],\n",
      "        [ 3.4396, -2.1567,  1.3556, -2.5755],\n",
      "        [ 3.1832, -2.4899,  0.7178, -1.3202],\n",
      "        [ 1.8077, -0.5990,  0.9713, -2.0974],\n",
      "        [ 0.7826, -0.6839,  2.6665, -2.6246],\n",
      "        [ 2.1624, -1.9558,  0.5401, -0.6635],\n",
      "        [-0.0517, -0.6707,  0.3256,  0.4001],\n",
      "        [ 3.0525, -1.9447,  1.1915, -2.2090],\n",
      "        [-0.9487,  0.5379,  1.4396, -0.9285],\n",
      "        [ 3.7117, -2.6453,  1.4011, -2.3729],\n",
      "        [ 3.9878, -2.5335,  1.8307, -3.1940],\n",
      "        [ 0.4743, -0.0350,  2.2797, -2.5863],\n",
      "        [ 3.5353, -2.2247,  1.5681, -2.7839],\n",
      "        [ 0.1676, -1.4120, -0.4102,  1.7046],\n",
      "        [-0.6209,  1.2076,  1.8401, -2.3228],\n",
      "        [ 3.4907, -2.2632,  1.3242, -2.4626],\n",
      "        [ 4.5678, -3.4745,  1.6681, -2.6388],\n",
      "        [ 4.1964, -2.7046,  1.6386, -3.0391],\n",
      "        [-2.9618,  3.3694,  2.3512, -2.5721],\n",
      "        [ 4.1730, -3.1111,  1.8515, -2.8439],\n",
      "        [ 0.7983,  0.0396,  1.8714, -2.5891],\n",
      "        [-4.8961,  3.0159,  4.5933, -2.4564],\n",
      "        [ 2.4410, -1.7730,  0.8618, -1.4509],\n",
      "        [ 1.8605, -2.0226,  0.2982, -0.0513]])\n"
     ]
    },
    {
     "name": "stderr",
     "output_type": "stream",
     "text": [
      "100%|██████████| 214/214 [00:14<00:00, 14.51it/s]"
     ]
    },
    {
     "name": "stdout",
     "output_type": "stream",
     "text": [
      "Total: 0.8193543553352356, N: 0.9157466292381287, AF: 0.7904191613197327, O: 0.7518972754478455, ACC: 0.8562005277044855\n"
     ]
    },
    {
     "name": "stderr",
     "output_type": "stream",
     "text": [
      "\n"
     ]
    }
   ],
   "source": [
    "# reference cnn\n",
    "cnn.eval()\n",
    "F1t_ref = eval_model(cnn, dl_train)"
   ]
  },
  {
   "cell_type": "code",
   "execution_count": 8,
   "id": "f2b5cab0-a40c-4691-9141-e555f846db23",
   "metadata": {},
   "outputs": [
    {
     "name": "stderr",
     "output_type": "stream",
     "text": [
      "  1%|          | 2/214 [00:00<00:14, 14.48it/s]"
     ]
    },
    {
     "name": "stdout",
     "output_type": "stream",
     "text": [
      "tensor([[ 4.1285, -2.6979,  1.4046, -2.7350],\n",
      "        [ 1.6965, -1.1737,  0.0738, -0.5448],\n",
      "        [ 2.8017, -1.9906,  1.6724, -2.4167],\n",
      "        [-1.2256,  2.6460,  1.3387, -2.6242],\n",
      "        [-6.9312,  6.6343,  4.4496, -3.7523],\n",
      "        [ 3.5037, -2.0247,  1.3318, -2.7151],\n",
      "        [ 2.9243, -1.7413,  1.2975, -2.3855],\n",
      "        [ 0.6537, -1.7793,  4.2351, -2.9101],\n",
      "        [-1.7985,  2.8865,  1.3479, -2.3501],\n",
      "        [ 3.5371, -2.2165,  1.4090, -2.6641],\n",
      "        [ 3.2866, -2.6209,  0.7365, -1.3078],\n",
      "        [ 1.8119, -0.5589,  1.0084, -2.1762],\n",
      "        [ 0.7365, -0.6769,  2.8164, -2.7312],\n",
      "        [ 2.2240, -2.0495,  0.5649, -0.6539],\n",
      "        [-0.1134, -0.7156,  0.3655,  0.4659],\n",
      "        [ 3.1472, -2.0157,  1.2431, -2.2816],\n",
      "        [-1.0870,  0.6095,  1.5176, -0.9358],\n",
      "        [ 3.8247, -2.7628,  1.4768, -2.4421],\n",
      "        [ 4.1131, -2.6183,  1.9171, -3.3181],\n",
      "        [ 0.4018,  0.0250,  2.4162, -2.7055],\n",
      "        [ 3.6430, -2.3017,  1.6427, -2.8863],\n",
      "        [ 0.1385, -1.5487, -0.4438,  1.9076],\n",
      "        [-0.7554,  1.3411,  1.9574, -2.4360],\n",
      "        [ 3.6019, -2.3472,  1.3821, -2.5453],\n",
      "        [ 4.7355, -3.6370,  1.7427, -2.7148],\n",
      "        [ 4.3461, -2.8159,  1.7204, -3.1572],\n",
      "        [-3.2236,  3.6340,  2.5104, -2.7259],\n",
      "        [ 4.3190, -3.2383,  1.9380, -2.9475],\n",
      "        [ 0.7325,  0.1219,  1.9652, -2.6951],\n",
      "        [-5.2884,  3.2078,  4.9345, -2.5822],\n",
      "        [ 2.4913, -1.8454,  0.9011, -1.4661],\n",
      "        [ 1.9027, -2.1530,  0.2891,  0.0493]])\n"
     ]
    },
    {
     "name": "stderr",
     "output_type": "stream",
     "text": [
      "100%|██████████| 214/214 [00:15<00:00, 14.09it/s]"
     ]
    },
    {
     "name": "stdout",
     "output_type": "stream",
     "text": [
      "Total: 0.8192494511604309, N: 0.9170172810554504, AF: 0.7866894006729126, O: 0.7540415525436401, ACC: 0.8569334506009968\n"
     ]
    },
    {
     "name": "stderr",
     "output_type": "stream",
     "text": [
      "\n"
     ]
    }
   ],
   "source": [
    "# reference including batchnormalization in weights and biases\n",
    "cnn_bninteg.eval()\n",
    "cnn_bninteg.update_weights_bn_integration()\n",
    "F1t_trans1 = eval_model(cnn_bninteg, dl_train)"
   ]
  },
  {
   "cell_type": "code",
   "execution_count": 10,
   "id": "9c2363cd-c7c7-4b9a-9b85-b32b589bc752",
   "metadata": {},
   "outputs": [],
   "source": [
    "# save BN integrated model for other conversion methodologies\n",
    "model_path_bnintegr = f'comp_sota_cnn2snn/model_fold{val_fold}_bnintegr.pt'\n",
    "torch.save(cnn_bninteg, model_path_bnintegr)"
   ]
  },
  {
   "cell_type": "code",
   "execution_count": 11,
   "id": "b101fcd5-48ef-4ae6-a773-c0adc16f5335",
   "metadata": {},
   "outputs": [
    {
     "data": {
      "text/plain": [
       "<All keys matched successfully>"
      ]
     },
     "execution_count": 11,
     "metadata": {},
     "output_type": "execute_result"
    }
   ],
   "source": [
    "# normed model such that input and activations are in [0,1]\n",
    "cnn_normed = WVCNN4()\n",
    "cnn_normed.load_state_dict(cnn_bninteg.state_dict())"
   ]
  },
  {
   "cell_type": "code",
   "execution_count": 12,
   "id": "bfbccfd0-4a6b-4c87-aae6-5308ebb2c8df",
   "metadata": {},
   "outputs": [
    {
     "name": "stdout",
     "output_type": "stream",
     "text": [
      "input: lmbda=0.015740190112859882,dlta=0.4815042797031844\n",
      "conv1: lmbda=0.06884055279420398,dlta=0\n",
      "conv2: lmbda=0.030128361216034467,dlta=0\n",
      "conv3: lmbda=0.10911830024841578,dlta=0\n",
      "conv4: lmbda=0.01113663368339873,dlta=0\n",
      "fc: lmbda=0.03500711123536534,dlta=0\n"
     ]
    }
   ],
   "source": [
    "cnn_normed.calculate_norm_values(dwt_train)\n",
    "cnn_normed.print_norm_values()\n",
    "cnn_normed.update_weights_with_norm_values()"
   ]
  },
  {
   "cell_type": "code",
   "execution_count": 13,
   "id": "6a5af203-ebbb-4f63-b7c6-ff39599e2e0a",
   "metadata": {},
   "outputs": [],
   "source": [
    "# prepare dataloader with normalization of input\n",
    "dsetn_train = CINC7Dataset('../data/custom/physionet2017_4classes.hdf5',train=True,transform=DWTnNorm(4,cnn_normed.input_lmbda,cnn_normed.input_dlta,quant=False))\n",
    "dsetn_val = CINC7Dataset('../data/custom/physionet2017_4classes.hdf5',train=False,transform=DWTnNorm(4,cnn_normed.input_lmbda,cnn_normed.input_dlta,quant=False))\n",
    "\n",
    "dln_train = DataLoader(dsetn_train, batch_size=bs, shuffle=False, num_workers=0)\n",
    "dln_val = DataLoader(dsetn_val, batch_size=bs, shuffle=False, num_workers=0)"
   ]
  },
  {
   "cell_type": "code",
   "execution_count": 14,
   "id": "38b6615a-e949-4b20-af3f-5c584e9960c0",
   "metadata": {},
   "outputs": [
    {
     "name": "stderr",
     "output_type": "stream",
     "text": [
      "  2%|▏         | 4/214 [00:00<00:13, 15.40it/s]"
     ]
    },
    {
     "name": "stdout",
     "output_type": "stream",
     "text": [
      "tensor([[ 0.1445, -0.0944,  0.0492, -0.0957],\n",
      "        [ 0.0594, -0.0411,  0.0026, -0.0191],\n",
      "        [ 0.0981, -0.0697,  0.0585, -0.0846],\n",
      "        [-0.0429,  0.0926,  0.0469, -0.0919],\n",
      "        [-0.2426,  0.2322,  0.1558, -0.1314],\n",
      "        [ 0.1227, -0.0709,  0.0466, -0.0950],\n",
      "        [ 0.1024, -0.0610,  0.0454, -0.0835],\n",
      "        [ 0.0229, -0.0623,  0.1483, -0.1019],\n",
      "        [-0.0630,  0.1010,  0.0472, -0.0823],\n",
      "        [ 0.1238, -0.0776,  0.0493, -0.0933],\n",
      "        [ 0.1151, -0.0917,  0.0258, -0.0458],\n",
      "        [ 0.0634, -0.0196,  0.0353, -0.0762],\n",
      "        [ 0.0258, -0.0237,  0.0986, -0.0956],\n",
      "        [ 0.0779, -0.0717,  0.0198, -0.0229],\n",
      "        [-0.0040, -0.0251,  0.0128,  0.0163],\n",
      "        [ 0.1102, -0.0706,  0.0435, -0.0799],\n",
      "        [-0.0381,  0.0213,  0.0531, -0.0328],\n",
      "        [ 0.1339, -0.0967,  0.0517, -0.0855],\n",
      "        [ 0.1440, -0.0917,  0.0671, -0.1162],\n",
      "        [ 0.0141,  0.0009,  0.0846, -0.0947],\n",
      "        [ 0.1275, -0.0806,  0.0575, -0.1010],\n",
      "        [ 0.0048, -0.0542, -0.0155,  0.0668],\n",
      "        [-0.0264,  0.0469,  0.0685, -0.0853],\n",
      "        [ 0.1261, -0.0822,  0.0484, -0.0891],\n",
      "        [ 0.1658, -0.1273,  0.0610, -0.0950],\n",
      "        [ 0.1521, -0.0986,  0.0602, -0.1105],\n",
      "        [-0.1128,  0.1272,  0.0879, -0.0954],\n",
      "        [ 0.1512, -0.1134,  0.0678, -0.1032],\n",
      "        [ 0.0256,  0.0043,  0.0688, -0.0943],\n",
      "        [-0.1851,  0.1123,  0.1727, -0.0904],\n",
      "        [ 0.0872, -0.0646,  0.0315, -0.0513],\n",
      "        [ 0.0666, -0.0754,  0.0101,  0.0017]])\n"
     ]
    },
    {
     "name": "stderr",
     "output_type": "stream",
     "text": [
      "100%|██████████| 214/214 [00:14<00:00, 14.38it/s]"
     ]
    },
    {
     "name": "stdout",
     "output_type": "stream",
     "text": [
      "Total: 0.8192494511604309, N: 0.9170172810554504, AF: 0.7866894006729126, O: 0.7540415525436401, ACC: 0.8569334506009968\n"
     ]
    },
    {
     "name": "stderr",
     "output_type": "stream",
     "text": [
      "\n"
     ]
    }
   ],
   "source": [
    "cnn_normed.eval()\n",
    "F1t_trans2 = eval_model(cnn_normed, dln_train)"
   ]
  },
  {
   "cell_type": "code",
   "execution_count": 15,
   "id": "a34ead3e-5258-46bb-9087-753f92ddcd20",
   "metadata": {},
   "outputs": [],
   "source": [
    "# plot weight & bias distribution as preparation for quantization\n",
    "# plt.figure(0,figsize=[25,5])\n",
    "# ax1 = plt.subplot(1, 5, 1)\n",
    "# plt.hist(cnn_normed.conv1.weight.flatten(),range=(-5,5),bins=20)\n",
    "# ax1 = plt.subplot(1, 5, 2)\n",
    "# plt.hist(cnn_normed.conv2.weight.flatten(),range=(-5,5),bins=20)\n",
    "# ax1 = plt.subplot(1, 5, 3)\n",
    "# plt.hist(cnn_normed.conv3.weight.flatten(),range=(-5,5),bins=20)\n",
    "# ax1 = plt.subplot(1, 5, 4)\n",
    "# plt.hist(cnn_normed.conv4.weight.flatten(),range=(-5,5),bins=20)\n",
    "# ax1 = plt.subplot(1, 5, 5)\n",
    "# plt.hist(cnn_normed.fc.weight.flatten(),range=(-5,5),bins=20);"
   ]
  },
  {
   "cell_type": "code",
   "execution_count": 16,
   "id": "010df87e-5b80-4f72-8d8c-6801fa53b5fc",
   "metadata": {},
   "outputs": [],
   "source": [
    "# plt.figure(0,figsize=[25,5])\n",
    "# ax1 = plt.subplot(1, 5, 1)\n",
    "# plt.hist(cnn_normed.conv1.bias.flatten(),range=(-5,5),bins=20)\n",
    "# ax1 = plt.subplot(1, 5, 2)\n",
    "# plt.hist(cnn_normed.conv2.bias.flatten(),range=(-5,5),bins=20)\n",
    "# ax1 = plt.subplot(1, 5, 3)\n",
    "# plt.hist(cnn_normed.conv3.bias.flatten(),range=(-5,5),bins=20)\n",
    "# ax1 = plt.subplot(1, 5, 4)\n",
    "# plt.hist(cnn_normed.conv4.bias.flatten(),range=(-5,5),bins=20)\n",
    "# ax1 = plt.subplot(1, 5, 5)\n",
    "# plt.hist(cnn_normed.fc.bias.flatten(),range=(-5,5),bins=20);"
   ]
  },
  {
   "cell_type": "code",
   "execution_count": 17,
   "id": "9e5f5fb1-18e2-426d-9f25-676786191250",
   "metadata": {},
   "outputs": [],
   "source": [
    "# NN in fixed point only\n",
    "#b=16\n",
    "\n",
    "cnn_quant = WVCNN4()\n",
    "cnn_quant.load_state_dict(cnn_normed.state_dict())\n",
    "#cnn_quant = cnn_normed\n",
    "cnn_quant.update_weights_with_quant(b=b) # number of fractional bits for weights and bias\n",
    "cnn_quant.q_actb = b # number of fractional bits for activations\n",
    "cnn_quant.quantize = True\n",
    "cnn_quant.normed = True"
   ]
  },
  {
   "cell_type": "code",
   "execution_count": 18,
   "id": "24e3f12b-9876-456c-a249-ff871094a9d3",
   "metadata": {},
   "outputs": [
    {
     "name": "stderr",
     "output_type": "stream",
     "text": [
      "  1%|          | 2/214 [00:00<00:16, 12.74it/s]"
     ]
    },
    {
     "name": "stdout",
     "output_type": "stream",
     "text": [
      "tensor([[ 0.1426, -0.0930,  0.0476, -0.0935],\n",
      "        [ 0.0593, -0.0420,  0.0017, -0.0171],\n",
      "        [ 0.0947, -0.0652,  0.0542, -0.0813],\n",
      "        [-0.0405,  0.0913,  0.0449, -0.0911],\n",
      "        [-0.2417,  0.2332,  0.1548, -0.1318],\n",
      "        [ 0.1189, -0.0681,  0.0459, -0.0933],\n",
      "        [ 0.1013, -0.0598,  0.0454, -0.0833],\n",
      "        [ 0.0217, -0.0586,  0.1426, -0.0986],\n",
      "        [-0.0630,  0.1016,  0.0437, -0.0793],\n",
      "        [ 0.1218, -0.0754,  0.0474, -0.0913],\n",
      "        [ 0.1145, -0.0923,  0.0234, -0.0422],\n",
      "        [ 0.0569, -0.0134,  0.0347, -0.0750],\n",
      "        [ 0.0244, -0.0208,  0.0955, -0.0940],\n",
      "        [ 0.0767, -0.0706,  0.0176, -0.0208],\n",
      "        [-0.0032, -0.0244,  0.0103,  0.0176],\n",
      "        [ 0.1091, -0.0691,  0.0430, -0.0793],\n",
      "        [-0.0413,  0.0234,  0.0503, -0.0288],\n",
      "        [ 0.1304, -0.0925,  0.0454, -0.0801],\n",
      "        [ 0.1411, -0.0872,  0.0630, -0.1135],\n",
      "        [ 0.0105,  0.0049,  0.0828, -0.0933],\n",
      "        [ 0.1233, -0.0776,  0.0552, -0.0974],\n",
      "        [ 0.0017, -0.0525, -0.0151,  0.0681],\n",
      "        [-0.0283,  0.0498,  0.0667, -0.0842],\n",
      "        [ 0.1235, -0.0791,  0.0452, -0.0864],\n",
      "        [ 0.1643, -0.1250,  0.0583, -0.0930],\n",
      "        [ 0.1484, -0.0950,  0.0586, -0.1089],\n",
      "        [-0.1118,  0.1270,  0.0862, -0.0942],\n",
      "        [ 0.1492, -0.1111,  0.0667, -0.1023],\n",
      "        [ 0.0215,  0.0093,  0.0671, -0.0933],\n",
      "        [-0.1873,  0.1199,  0.1685, -0.0916],\n",
      "        [ 0.0815, -0.0588,  0.0269, -0.0466],\n",
      "        [ 0.0654, -0.0742,  0.0081,  0.0039]])\n"
     ]
    },
    {
     "name": "stderr",
     "output_type": "stream",
     "text": [
      "100%|██████████| 214/214 [00:15<00:00, 13.69it/s]"
     ]
    },
    {
     "name": "stdout",
     "output_type": "stream",
     "text": [
      "Total: 0.8155252933502197, N: 0.9182551503181458, AF: 0.7796327471733093, O: 0.7486880421638489, ACC: 0.8557607739665787\n"
     ]
    },
    {
     "name": "stderr",
     "output_type": "stream",
     "text": [
      "\n"
     ]
    },
    {
     "data": {
      "text/plain": [
       "(tensor(0.8155, dtype=torch.float32),\n",
       " tensor(0.9183, dtype=torch.float32),\n",
       " tensor(0.7796, dtype=torch.float32),\n",
       " tensor(0.7487, dtype=torch.float32),\n",
       " tensor([0, 0, 0,  ..., 2, 0, 0]))"
      ]
     },
     "execution_count": 18,
     "metadata": {},
     "output_type": "execute_result"
    }
   ],
   "source": [
    "cnn_quant.eval()\n",
    "eval_model(cnn_quant, dln_train)"
   ]
  },
  {
   "cell_type": "code",
   "execution_count": 19,
   "id": "d53896bd-0bf9-43e6-9148-9a331a977a09",
   "metadata": {
    "tags": []
   },
   "outputs": [
    {
     "name": "stderr",
     "output_type": "stream",
     "text": [
      "  1%|          | 2/214 [00:00<00:15, 13.30it/s]"
     ]
    },
    {
     "name": "stdout",
     "output_type": "stream",
     "text": [
      "tensor([[ 0.1426, -0.0930,  0.0476, -0.0935],\n",
      "        [ 0.0593, -0.0420,  0.0017, -0.0171],\n",
      "        [ 0.0947, -0.0652,  0.0542, -0.0813],\n",
      "        [-0.0405,  0.0913,  0.0449, -0.0911],\n",
      "        [-0.2417,  0.2332,  0.1548, -0.1318],\n",
      "        [ 0.1189, -0.0681,  0.0459, -0.0933],\n",
      "        [ 0.1013, -0.0598,  0.0454, -0.0833],\n",
      "        [ 0.0217, -0.0586,  0.1426, -0.0986],\n",
      "        [-0.0630,  0.1016,  0.0437, -0.0793],\n",
      "        [ 0.1218, -0.0754,  0.0474, -0.0913],\n",
      "        [ 0.1145, -0.0923,  0.0234, -0.0422],\n",
      "        [ 0.0569, -0.0134,  0.0347, -0.0750],\n",
      "        [ 0.0244, -0.0208,  0.0955, -0.0940],\n",
      "        [ 0.0767, -0.0706,  0.0176, -0.0208],\n",
      "        [-0.0032, -0.0244,  0.0103,  0.0176],\n",
      "        [ 0.1091, -0.0691,  0.0430, -0.0793],\n",
      "        [-0.0413,  0.0234,  0.0503, -0.0288],\n",
      "        [ 0.1304, -0.0925,  0.0454, -0.0801],\n",
      "        [ 0.1411, -0.0872,  0.0630, -0.1135],\n",
      "        [ 0.0105,  0.0049,  0.0828, -0.0933],\n",
      "        [ 0.1233, -0.0776,  0.0552, -0.0974],\n",
      "        [ 0.0017, -0.0525, -0.0151,  0.0681],\n",
      "        [-0.0283,  0.0498,  0.0667, -0.0842],\n",
      "        [ 0.1235, -0.0791,  0.0452, -0.0864],\n",
      "        [ 0.1643, -0.1250,  0.0583, -0.0930],\n",
      "        [ 0.1484, -0.0950,  0.0586, -0.1089],\n",
      "        [-0.1118,  0.1270,  0.0862, -0.0942],\n",
      "        [ 0.1492, -0.1111,  0.0667, -0.1023],\n",
      "        [ 0.0215,  0.0093,  0.0671, -0.0933],\n",
      "        [-0.1873,  0.1199,  0.1685, -0.0916],\n",
      "        [ 0.0815, -0.0588,  0.0269, -0.0466],\n",
      "        [ 0.0654, -0.0742,  0.0081,  0.0039]])\n"
     ]
    },
    {
     "name": "stderr",
     "output_type": "stream",
     "text": [
      "100%|██████████| 214/214 [00:15<00:00, 13.59it/s]"
     ]
    },
    {
     "name": "stdout",
     "output_type": "stream",
     "text": [
      "Total: 0.8155252933502197, N: 0.9182551503181458, AF: 0.7796327471733093, O: 0.7486880421638489, ACC: 0.8557607739665787\n"
     ]
    },
    {
     "name": "stderr",
     "output_type": "stream",
     "text": [
      "\n"
     ]
    }
   ],
   "source": [
    "cnn_quant.saturate = True\n",
    "cnn_quant.eval()\n",
    "F1t_trans3 = eval_model(cnn_quant, dln_train)"
   ]
  },
  {
   "cell_type": "code",
   "execution_count": 20,
   "id": "0cf11a46-1bdf-4563-9cae-45099d903844",
   "metadata": {},
   "outputs": [
    {
     "name": "stderr",
     "output_type": "stream",
     "text": [
      "  1%|          | 2/214 [00:00<00:18, 11.30it/s]"
     ]
    },
    {
     "name": "stdout",
     "output_type": "stream",
     "text": [
      "tensor([[ 0.1426, -0.0933,  0.0476, -0.0933],\n",
      "        [ 0.0593, -0.0417,  0.0020, -0.0173],\n",
      "        [ 0.0940, -0.0649,  0.0549, -0.0813],\n",
      "        [-0.0398,  0.0901,  0.0449, -0.0906],\n",
      "        [-0.2432,  0.2344,  0.1555, -0.1326],\n",
      "        [ 0.1187, -0.0684,  0.0454, -0.0923],\n",
      "        [ 0.1006, -0.0593,  0.0454, -0.0830],\n",
      "        [ 0.0225, -0.0593,  0.1431, -0.0991],\n",
      "        [-0.0632,  0.1018,  0.0435, -0.0791],\n",
      "        [ 0.1213, -0.0762,  0.0479, -0.0906],\n",
      "        [ 0.1147, -0.0928,  0.0234, -0.0422],\n",
      "        [ 0.0579, -0.0144,  0.0347, -0.0750],\n",
      "        [ 0.0229, -0.0203,  0.0967, -0.0942],\n",
      "        [ 0.0769, -0.0703,  0.0176, -0.0210],\n",
      "        [-0.0034, -0.0242,  0.0100,  0.0178],\n",
      "        [ 0.1089, -0.0691,  0.0432, -0.0796],\n",
      "        [-0.0410,  0.0232,  0.0505, -0.0291],\n",
      "        [ 0.1316, -0.0938,  0.0457, -0.0798],\n",
      "        [ 0.1411, -0.0876,  0.0647, -0.1145],\n",
      "        [ 0.0105,  0.0046,  0.0825, -0.0928],\n",
      "        [ 0.1233, -0.0774,  0.0552, -0.0974],\n",
      "        [ 0.0017, -0.0532, -0.0156,  0.0691],\n",
      "        [-0.0288,  0.0491,  0.0674, -0.0840],\n",
      "        [ 0.1230, -0.0789,  0.0454, -0.0864],\n",
      "        [ 0.1646, -0.1252,  0.0581, -0.0930],\n",
      "        [ 0.1489, -0.0955,  0.0588, -0.1091],\n",
      "        [-0.1116,  0.1267,  0.0864, -0.0945],\n",
      "        [ 0.1494, -0.1133,  0.0642, -0.0974],\n",
      "        [ 0.0215,  0.0090,  0.0671, -0.0930],\n",
      "        [-0.1851,  0.1196,  0.1667, -0.0916],\n",
      "        [ 0.0825, -0.0591,  0.0261, -0.0466],\n",
      "        [ 0.0652, -0.0740,  0.0078,  0.0042]])\n"
     ]
    },
    {
     "name": "stderr",
     "output_type": "stream",
     "text": [
      "100%|██████████| 214/214 [00:19<00:00, 10.90it/s]"
     ]
    },
    {
     "name": "stdout",
     "output_type": "stream",
     "text": [
      "Total: 0.8170279860496521, N: 0.918546199798584, AF: 0.7823185920715332, O: 0.7502191066741943, ACC: 0.8566402814423922\n"
     ]
    },
    {
     "name": "stderr",
     "output_type": "stream",
     "text": [
      "\n"
     ]
    }
   ],
   "source": [
    "# prepare transformation of input data such that DWT calculation is in fixed point\n",
    "#b=16\n",
    "\n",
    "dsetnq_train = CINC7Dataset('../data/custom/physionet2017_4classes.hdf5',train=True,transform=DWTnNorm(4,cnn_normed.input_lmbda,cnn_normed.input_dlta,quant=True,b=b))\n",
    "dsetnq_val = CINC7Dataset('../data/custom/physionet2017_4classes.hdf5',train=False,transform=DWTnNorm(4,cnn_normed.input_lmbda,cnn_normed.input_dlta,quant=True,b=b))\n",
    "\n",
    "dlnq_train = DataLoader(dsetnq_train, batch_size=bs, shuffle=False, num_workers=0)\n",
    "dlnq_val = DataLoader(dsetnq_val, batch_size=bs, shuffle=False, num_workers=0)\n",
    "\n",
    "cnn_quant = WVCNN4()\n",
    "cnn_quant.load_state_dict(cnn_normed.state_dict())\n",
    "#cnn_quant = cnn_normed\n",
    "cnn_quant.update_weights_with_quant(b=b) # number of fractional bits for weights and bias\n",
    "cnn_quant.q_actb = b # number of fractional bits for activations\n",
    "cnn_quant.quantize = True\n",
    "cnn_quant.normed = True\n",
    "cnn_quant.saturate = True\n",
    "cnn_quant.eval()\n",
    "F1t_trans4 = eval_model(cnn_quant, dlnq_train)"
   ]
  },
  {
   "cell_type": "code",
   "execution_count": 21,
   "id": "3d707127-6811-4a88-9bdd-2c87cf6c90e7",
   "metadata": {},
   "outputs": [],
   "source": [
    "# Save final model \n",
    "model_path_snn = f'snn_ref/model_fold{val_fold}_snn.pt'\n",
    "torch.save(cnn_quant, model_path_snn)"
   ]
  },
  {
   "cell_type": "code",
   "execution_count": 22,
   "id": "bc6be54a-5984-4aa9-9a22-d42d5ff10159",
   "metadata": {},
   "outputs": [],
   "source": [
    "# For matlab\n",
    "import scipy.io as sio\n",
    "export_dict = {}\n",
    "sd = cnn_quant.state_dict()\n",
    "for entry in sd:\n",
    "    export_dict[entry.replace(\".\",\"_\")] = sd[entry].numpy()\n",
    "\n",
    "export_dict['input_lmbda'] = cnn_normed.input_lmbda.numpy()\n",
    "export_dict['input_dlta'] = cnn_normed.input_dlta.numpy()\n",
    "    \n",
    "sio.savemat(f'model_state_dict{val_fold}_snn.mat', {'dict': export_dict})"
   ]
  },
  {
   "cell_type": "code",
   "execution_count": 23,
   "id": "3fd57569-ffb7-40fc-bcc0-15c2dccc612f",
   "metadata": {},
   "outputs": [
    {
     "name": "stderr",
     "output_type": "stream",
     "text": [
      "100%|██████████| 54/54 [00:03<00:00, 13.98it/s]\n"
     ]
    },
    {
     "name": "stdout",
     "output_type": "stream",
     "text": [
      "Total: 0.8070570826530457, N: 0.8963474631309509, AF: 0.8057971000671387, O: 0.7190265655517578, ACC: 0.8311840562719812\n"
     ]
    },
    {
     "name": "stderr",
     "output_type": "stream",
     "text": [
      "100%|██████████| 54/54 [00:03<00:00, 14.76it/s]\n"
     ]
    },
    {
     "name": "stdout",
     "output_type": "stream",
     "text": [
      "Total: 0.8081307411193848, N: 0.8977159857749939, AF: 0.8057971000671387, O: 0.7208791375160217, ACC: 0.8311840562719812\n"
     ]
    },
    {
     "name": "stderr",
     "output_type": "stream",
     "text": [
      "100%|██████████| 54/54 [00:03<00:00, 13.79it/s]\n"
     ]
    },
    {
     "name": "stdout",
     "output_type": "stream",
     "text": [
      "Total: 0.8081307411193848, N: 0.8977159857749939, AF: 0.8057971000671387, O: 0.7208791375160217, ACC: 0.8311840562719812\n"
     ]
    },
    {
     "name": "stderr",
     "output_type": "stream",
     "text": [
      "100%|██████████| 54/54 [00:04<00:00, 13.04it/s]\n"
     ]
    },
    {
     "name": "stdout",
     "output_type": "stream",
     "text": [
      "Total: 0.799759566783905, N: 0.89682537317276, AF: 0.7955182194709778, O: 0.7069351077079773, ACC: 0.8259085580304807\n"
     ]
    },
    {
     "name": "stderr",
     "output_type": "stream",
     "text": [
      "100%|██████████| 54/54 [00:05<00:00, 10.63it/s]"
     ]
    },
    {
     "name": "stdout",
     "output_type": "stream",
     "text": [
      "Total: 0.8024044036865234, N: 0.8977159857749939, AF: 0.7988826632499695, O: 0.7106145024299622, ACC: 0.8276670574443142\n"
     ]
    },
    {
     "name": "stderr",
     "output_type": "stream",
     "text": [
      "\n"
     ]
    }
   ],
   "source": [
    "# get metrics for evaluation on train set (see above)\n",
    "#F1t_ref = eval_model(cnn, dl_train,print_first=False)\n",
    "#F1t_trans1 = eval_model(cnn_bninteg, dl_train,print_first=False)\n",
    "#F1t_trans2 = eval_model(cnn_normed, dln_train,print_first=False)\n",
    "#F1t_trans3 = eval_model(cnn_quant, dln_train,print_first=False)\n",
    "\n",
    "# get metrics for evaluation on validation set\n",
    "F1v_ref = eval_model(cnn, dl_val,print_first=False)\n",
    "F1v_trans1 = eval_model(cnn_bninteg, dl_val,print_first=False)\n",
    "F1v_trans2 = eval_model(cnn_normed, dln_val,print_first=False)\n",
    "F1v_trans3 = eval_model(cnn_quant, dln_val,print_first=False)\n",
    "F1v_trans4 = eval_model(cnn_quant, dlnq_val,print_first=False)"
   ]
  },
  {
   "cell_type": "code",
   "execution_count": 24,
   "id": "f490eb3d-a02b-44dc-a398-aa5011ad9ad4",
   "metadata": {},
   "outputs": [
    {
     "name": "stderr",
     "output_type": "stream",
     "text": [
      "findfont: Font family 'san-serif' not found.\n",
      "findfont: Font family 'san-serif' not found.\n",
      "findfont: Font family 'san-serif' not found.\n",
      "findfont: Font family 'san-serif' not found.\n",
      "findfont: Font family 'san-serif' not found.\n",
      "findfont: Font family 'san-serif' not found.\n",
      "findfont: Font family 'san-serif' not found.\n",
      "findfont: Font family 'san-serif' not found.\n",
      "findfont: Font family 'san-serif' not found.\n",
      "findfont: Font family 'san-serif' not found.\n",
      "findfont: Font family 'san-serif' not found.\n",
      "findfont: Font family 'san-serif' not found.\n",
      "findfont: Font family 'san-serif' not found.\n",
      "findfont: Font family 'san-serif' not found.\n",
      "findfont: Font family 'san-serif' not found.\n",
      "findfont: Font family 'san-serif' not found.\n",
      "findfont: Font family 'san-serif' not found.\n",
      "findfont: Font family 'san-serif' not found.\n",
      "findfont: Font family 'san-serif' not found.\n",
      "findfont: Font family 'san-serif' not found.\n",
      "findfont: Font family 'san-serif' not found.\n",
      "findfont: Font family 'san-serif' not found.\n",
      "findfont: Font family 'san-serif' not found.\n",
      "findfont: Font family 'san-serif' not found.\n",
      "findfont: Font family 'san-serif' not found.\n",
      "findfont: Font family 'san-serif' not found.\n",
      "findfont: Font family 'san-serif' not found.\n",
      "findfont: Font family 'san-serif' not found.\n",
      "findfont: Font family 'san-serif' not found.\n",
      "findfont: Font family 'san-serif' not found.\n",
      "findfont: Font family 'san-serif' not found.\n",
      "findfont: Font family 'san-serif' not found.\n",
      "findfont: Font family 'san-serif' not found.\n",
      "findfont: Font family 'san-serif' not found.\n",
      "findfont: Font family 'san-serif' not found.\n",
      "findfont: Font family 'san-serif' not found.\n",
      "findfont: Font family 'san-serif' not found.\n",
      "findfont: Font family 'san-serif' not found.\n",
      "findfont: Font family 'san-serif' not found.\n",
      "findfont: Font family 'san-serif' not found.\n",
      "findfont: Font family 'san-serif' not found.\n",
      "findfont: Font family 'san-serif' not found.\n",
      "findfont: Font family 'san-serif' not found.\n",
      "findfont: Font family 'san-serif' not found.\n",
      "findfont: Font family 'san-serif' not found.\n",
      "findfont: Font family 'san-serif' not found.\n",
      "findfont: Font family 'san-serif' not found.\n",
      "findfont: Font family 'san-serif' not found.\n",
      "findfont: Font family 'san-serif' not found.\n",
      "findfont: Font family 'san-serif' not found.\n",
      "findfont: Font family 'san-serif' not found.\n",
      "findfont: Font family 'san-serif' not found.\n",
      "findfont: Font family 'san-serif' not found.\n",
      "findfont: Font family 'san-serif' not found.\n",
      "findfont: Font family 'san-serif' not found.\n",
      "findfont: Font family 'san-serif' not found.\n",
      "findfont: Font family 'san-serif' not found.\n",
      "findfont: Font family 'san-serif' not found.\n",
      "findfont: Font family 'san-serif' not found.\n",
      "findfont: Font family 'san-serif' not found.\n",
      "findfont: Font family 'san-serif' not found.\n",
      "findfont: Font family 'san-serif' not found.\n",
      "findfont: Font family 'san-serif' not found.\n",
      "findfont: Font family 'san-serif' not found.\n",
      "findfont: Font family 'san-serif' not found.\n",
      "findfont: Font family 'san-serif' not found.\n",
      "findfont: Font family 'san-serif' not found.\n",
      "findfont: Font family 'san-serif' not found.\n",
      "findfont: Font family 'san-serif' not found.\n",
      "findfont: Font family 'san-serif' not found.\n",
      "findfont: Font family 'san-serif' not found.\n",
      "findfont: Font family 'san-serif' not found.\n",
      "findfont: Font family 'san-serif' not found.\n",
      "findfont: Font family 'san-serif' not found.\n",
      "findfont: Font family 'san-serif' not found.\n",
      "findfont: Font family 'san-serif' not found.\n",
      "findfont: Font family 'san-serif' not found.\n",
      "findfont: Font family 'san-serif' not found.\n",
      "findfont: Font family 'san-serif' not found.\n",
      "findfont: Font family 'san-serif' not found.\n",
      "findfont: Font family 'san-serif' not found.\n",
      "findfont: Font family 'san-serif' not found.\n",
      "findfont: Font family 'san-serif' not found.\n",
      "findfont: Font family 'san-serif' not found.\n",
      "findfont: Font family 'san-serif' not found.\n",
      "findfont: Font family 'san-serif' not found.\n",
      "findfont: Font family 'san-serif' not found.\n",
      "findfont: Font family 'san-serif' not found.\n",
      "findfont: Font family 'san-serif' not found.\n",
      "findfont: Font family 'san-serif' not found.\n",
      "findfont: Font family 'san-serif' not found.\n",
      "findfont: Font family 'san-serif' not found.\n",
      "findfont: Font family 'san-serif' not found.\n",
      "findfont: Font family 'san-serif' not found.\n",
      "findfont: Font family 'san-serif' not found.\n",
      "findfont: Font family 'san-serif' not found.\n",
      "findfont: Font family 'san-serif' not found.\n",
      "findfont: Font family 'san-serif' not found.\n",
      "findfont: Font family 'san-serif' not found.\n",
      "findfont: Font family 'san-serif' not found.\n",
      "findfont: Font family 'san-serif' not found.\n",
      "findfont: Font family 'san-serif' not found.\n",
      "findfont: Font family 'san-serif' not found.\n",
      "findfont: Font family 'san-serif' not found.\n",
      "findfont: Font family 'san-serif' not found.\n",
      "findfont: Font family 'san-serif' not found.\n",
      "findfont: Font family 'san-serif' not found.\n",
      "findfont: Font family 'san-serif' not found.\n",
      "findfont: Font family 'san-serif' not found.\n",
      "findfont: Font family 'san-serif' not found.\n",
      "findfont: Font family 'san-serif' not found.\n",
      "findfont: Font family 'san-serif' not found.\n",
      "findfont: Font family 'san-serif' not found.\n",
      "findfont: Font family 'san-serif' not found.\n",
      "findfont: Font family 'san-serif' not found.\n",
      "findfont: Font family 'san-serif' not found.\n",
      "findfont: Font family 'san-serif' not found.\n",
      "findfont: Font family 'san-serif' not found.\n",
      "findfont: Font family 'san-serif' not found.\n",
      "findfont: Font family 'san-serif' not found.\n",
      "findfont: Font family 'san-serif' not found.\n",
      "findfont: Font family 'san-serif' not found.\n",
      "findfont: Font family 'san-serif' not found.\n",
      "findfont: Font family 'san-serif' not found.\n",
      "findfont: Font family 'san-serif' not found.\n",
      "findfont: Font family 'san-serif' not found.\n",
      "findfont: Font family 'san-serif' not found.\n",
      "findfont: Font family 'san-serif' not found.\n",
      "findfont: Font family 'san-serif' not found.\n",
      "findfont: Font family 'san-serif' not found.\n",
      "findfont: Font family 'san-serif' not found.\n",
      "findfont: Font family 'san-serif' not found.\n",
      "findfont: Font family 'san-serif' not found.\n",
      "findfont: Font family 'san-serif' not found.\n",
      "findfont: Font family 'san-serif' not found.\n",
      "findfont: Font family 'san-serif' not found.\n",
      "findfont: Font family 'san-serif' not found.\n",
      "findfont: Font family 'san-serif' not found.\n",
      "findfont: Font family 'san-serif' not found.\n",
      "findfont: Font family 'san-serif' not found.\n",
      "findfont: Font family 'san-serif' not found.\n",
      "findfont: Font family 'san-serif' not found.\n",
      "findfont: Font family 'san-serif' not found.\n",
      "findfont: Font family 'san-serif' not found.\n",
      "findfont: Font family 'san-serif' not found.\n",
      "findfont: Font family 'san-serif' not found.\n",
      "findfont: Font family 'san-serif' not found.\n",
      "findfont: Font family 'san-serif' not found.\n",
      "findfont: Font family 'san-serif' not found.\n",
      "findfont: Font family 'san-serif' not found.\n",
      "findfont: Font family 'san-serif' not found.\n",
      "findfont: Font family 'san-serif' not found.\n",
      "findfont: Font family 'san-serif' not found.\n",
      "findfont: Font family 'san-serif' not found.\n",
      "findfont: Font family 'san-serif' not found.\n",
      "findfont: Font family 'san-serif' not found.\n",
      "findfont: Font family 'san-serif' not found.\n",
      "findfont: Font family 'san-serif' not found.\n",
      "findfont: Font family 'san-serif' not found.\n",
      "findfont: Font family 'san-serif' not found.\n",
      "findfont: Font family 'san-serif' not found.\n",
      "findfont: Font family 'san-serif' not found.\n",
      "findfont: Font family 'san-serif' not found.\n",
      "findfont: Font family 'san-serif' not found.\n",
      "findfont: Font family 'san-serif' not found.\n",
      "findfont: Font family 'san-serif' not found.\n",
      "findfont: Font family 'san-serif' not found.\n",
      "findfont: Font family 'san-serif' not found.\n",
      "findfont: Font family 'san-serif' not found.\n",
      "findfont: Font family 'san-serif' not found.\n",
      "findfont: Font family 'san-serif' not found.\n",
      "findfont: Font family 'san-serif' not found.\n",
      "findfont: Font family 'san-serif' not found.\n",
      "findfont: Font family 'san-serif' not found.\n",
      "findfont: Font family 'san-serif' not found.\n",
      "findfont: Font family 'san-serif' not found.\n",
      "findfont: Font family 'san-serif' not found.\n",
      "findfont: Font family 'san-serif' not found.\n",
      "findfont: Font family 'san-serif' not found.\n",
      "findfont: Font family 'san-serif' not found.\n",
      "findfont: Font family 'san-serif' not found.\n",
      "findfont: Font family 'san-serif' not found.\n",
      "findfont: Font family 'san-serif' not found.\n",
      "findfont: Font family 'san-serif' not found.\n",
      "findfont: Font family 'san-serif' not found.\n",
      "findfont: Font family 'san-serif' not found.\n",
      "findfont: Font family 'san-serif' not found.\n",
      "findfont: Font family 'san-serif' not found.\n",
      "findfont: Font family 'san-serif' not found.\n",
      "findfont: Font family 'san-serif' not found.\n",
      "findfont: Font family 'san-serif' not found.\n",
      "findfont: Font family 'san-serif' not found.\n",
      "findfont: Font family 'san-serif' not found.\n",
      "findfont: Font family 'san-serif' not found.\n",
      "findfont: Font family 'san-serif' not found.\n",
      "findfont: Font family 'san-serif' not found.\n",
      "findfont: Font family 'san-serif' not found.\n",
      "findfont: Font family 'san-serif' not found.\n",
      "findfont: Font family 'san-serif' not found.\n",
      "findfont: Font family 'san-serif' not found.\n",
      "findfont: Font family 'san-serif' not found.\n",
      "findfont: Font family 'san-serif' not found.\n",
      "findfont: Font family 'san-serif' not found.\n",
      "findfont: Font family 'san-serif' not found.\n",
      "findfont: Font family 'san-serif' not found.\n",
      "findfont: Font family 'san-serif' not found.\n",
      "findfont: Font family 'san-serif' not found.\n",
      "findfont: Font family 'san-serif' not found.\n",
      "findfont: Font family 'san-serif' not found.\n",
      "findfont: Font family 'san-serif' not found.\n"
     ]
    },
    {
     "data": {
      "image/png": "[encoded data removed]",
      "text/plain": [
       "<Figure size 640x480 with 1 Axes>"
      ]
     },
     "metadata": {},
     "output_type": "display_data"
    }
   ],
   "source": [
    "# plot data\n",
    "train_all = [F1t_ref[0],F1t_trans1[0],F1t_trans2[0],F1t_trans3[0],F1t_trans4[0]]\n",
    "val_all = [F1v_ref[0],F1v_trans1[0],F1v_trans2[0],F1v_trans3[0],F1v_trans4[0]]\n",
    "trans_descr = [\"reference\",\"+integr. BN\",\"+act. norm (0,1)\",\"+NN_quant\",\"+DWT_quant\"]\n",
    "\n",
    "# plot metrics\n",
    "ax = plt.figure(0)\n",
    "plt.plot(trans_descr,train_all,\"b-x\", label='train set')\n",
    "plt.plot(trans_descr,val_all,\"r-x\", label='val set')\n",
    "plt.grid(True,which='both')\n",
    "plt.ylim((0.790,0.825))\n",
    "#plt.ylabel(\"F1 score (CinC'17 definition)\")\n",
    "plt.ylabel(\"F1 score\")\n",
    "#plt.title(f\"Normalization & Quantization of WVCNN design for SNN conversion\\n (b={b} fractional bits)\")\n",
    "ax.legend(loc='lower left', bbox_to_anchor=(0.15, 0.1))\n",
    "plt.savefig('wvcnn_norm_steps.png',dpi=600)\n",
    "plt.savefig('wvcnn_norm_steps.pdf')"
   ]
  },
  {
   "cell_type": "code",
   "execution_count": 25,
   "id": "67754d97-9a94-4263-83f1-f5ae39ba8fea",
   "metadata": {},
   "outputs": [
    {
     "name": "stdout",
     "output_type": "stream",
     "text": [
      "6822\n",
      "tensor(93)\n",
      "tensor(96)\n"
     ]
    }
   ],
   "source": [
    "# Difference of classified samples between reference and \"final\" quantized version\n",
    "print(len(F1t_ref[4]))\n",
    "print((F1t_ref[4] != F1t_trans3[4]).sum())\n",
    "print((F1t_ref[4] != F1t_trans4[4]).sum())"
   ]
  },
  {
   "cell_type": "code",
   "execution_count": 26,
   "id": "2d12bc67-5fbc-4872-b5d0-d1ab79d6c426",
   "metadata": {},
   "outputs": [
    {
     "data": {
      "text/plain": [
       "tensor([[ 0.0947, -0.0652,  0.0542, -0.0813]])"
      ]
     },
     "execution_count": 26,
     "metadata": {},
     "output_type": "execute_result"
    }
   ],
   "source": [
    "# Output of quantized version in pytorch (!! NOT EQUAL to Matlab version due to rounding scheme !!)\n",
    "# roundig scheme should be fixed via custom round_halfup\n",
    "dwt_in = dwts[2].unsqueeze(0).unsqueeze(0) * cnn_normed.input_lmbda + cnn_normed.input_dlta\n",
    "res = cnn_quant(dwt_in)\n",
    "res\n",
    "#dwts[2]"
   ]
  },
  {
   "cell_type": "code",
   "execution_count": 27,
   "id": "0d833dc1-93a1-44ab-a848-a6b9e59740de",
   "metadata": {},
   "outputs": [
    {
     "name": "stderr",
     "output_type": "stream",
     "text": [
      "findfont: Font family 'san-serif' not found.\n",
      "findfont: Font family 'san-serif' not found.\n",
      "findfont: Font family 'san-serif' not found.\n",
      "findfont: Font family 'san-serif' not found.\n",
      "findfont: Font family 'san-serif' not found.\n",
      "findfont: Font family 'san-serif' not found.\n",
      "findfont: Font family 'san-serif' not found.\n",
      "findfont: Font family 'san-serif' not found.\n",
      "findfont: Font family 'san-serif' not found.\n",
      "findfont: Font family 'san-serif' not found.\n",
      "findfont: Font family 'san-serif' not found.\n",
      "findfont: Font family 'san-serif' not found.\n",
      "findfont: Font family 'san-serif' not found.\n",
      "findfont: Font family 'san-serif' not found.\n",
      "findfont: Font family 'san-serif' not found.\n",
      "findfont: Font family 'san-serif' not found.\n",
      "findfont: Font family 'san-serif' not found.\n",
      "findfont: Font family 'san-serif' not found.\n",
      "findfont: Font family 'san-serif' not found.\n",
      "findfont: Font family 'san-serif' not found.\n",
      "findfont: Font family 'san-serif' not found.\n",
      "findfont: Font family 'san-serif' not found.\n",
      "findfont: Font family 'san-serif' not found.\n",
      "findfont: Font family 'san-serif' not found.\n",
      "findfont: Font family 'san-serif' not found.\n",
      "findfont: Font family 'san-serif' not found.\n",
      "findfont: Font family 'san-serif' not found.\n",
      "findfont: Font family 'san-serif' not found.\n",
      "findfont: Font family 'san-serif' not found.\n",
      "findfont: Font family 'san-serif' not found.\n",
      "findfont: Font family 'san-serif' not found.\n",
      "findfont: Font family 'san-serif' not found.\n",
      "findfont: Font family 'san-serif' not found.\n",
      "findfont: Font family 'san-serif' not found.\n",
      "findfont: Font family 'san-serif' not found.\n",
      "findfont: Font family 'san-serif' not found.\n",
      "findfont: Font family 'san-serif' not found.\n",
      "findfont: Font family 'san-serif' not found.\n",
      "findfont: Font family 'san-serif' not found.\n",
      "findfont: Font family 'san-serif' not found.\n",
      "findfont: Font family 'san-serif' not found.\n",
      "findfont: Font family 'san-serif' not found.\n",
      "findfont: Font family 'san-serif' not found.\n",
      "findfont: Font family 'san-serif' not found.\n",
      "findfont: Font family 'san-serif' not found.\n",
      "findfont: Font family 'san-serif' not found.\n",
      "findfont: Font family 'san-serif' not found.\n",
      "findfont: Font family 'san-serif' not found.\n",
      "findfont: Font family 'san-serif' not found.\n",
      "findfont: Font family 'san-serif' not found.\n",
      "findfont: Font family 'san-serif' not found.\n",
      "findfont: Font family 'san-serif' not found.\n",
      "findfont: Font family 'san-serif' not found.\n",
      "findfont: Font family 'san-serif' not found.\n",
      "findfont: Font family 'san-serif' not found.\n",
      "findfont: Font family 'san-serif' not found.\n",
      "findfont: Font family 'san-serif' not found.\n",
      "findfont: Font family 'san-serif' not found.\n",
      "findfont: Font family 'san-serif' not found.\n",
      "findfont: Font family 'san-serif' not found.\n",
      "findfont: Font family 'san-serif' not found.\n",
      "findfont: Font family 'san-serif' not found.\n",
      "findfont: Font family 'san-serif' not found.\n",
      "findfont: Font family 'san-serif' not found.\n",
      "findfont: Font family 'san-serif' not found.\n",
      "findfont: Font family 'san-serif' not found.\n",
      "findfont: Font family 'san-serif' not found.\n",
      "findfont: Font family 'san-serif' not found.\n",
      "findfont: Font family 'san-serif' not found.\n",
      "findfont: Font family 'san-serif' not found.\n",
      "findfont: Font family 'san-serif' not found.\n",
      "findfont: Font family 'san-serif' not found.\n",
      "findfont: Font family 'san-serif' not found.\n",
      "findfont: Font family 'san-serif' not found.\n",
      "findfont: Font family 'san-serif' not found.\n",
      "findfont: Font family 'san-serif' not found.\n",
      "findfont: Font family 'san-serif' not found.\n",
      "findfont: Font family 'san-serif' not found.\n",
      "findfont: Font family 'san-serif' not found.\n",
      "findfont: Font family 'san-serif' not found.\n",
      "findfont: Font family 'san-serif' not found.\n",
      "findfont: Font family 'san-serif' not found.\n",
      "findfont: Font family 'san-serif' not found.\n",
      "findfont: Font family 'san-serif' not found.\n",
      "findfont: Font family 'san-serif' not found.\n",
      "findfont: Font family 'san-serif' not found.\n",
      "findfont: Font family 'san-serif' not found.\n",
      "findfont: Font family 'san-serif' not found.\n",
      "findfont: Font family 'san-serif' not found.\n",
      "findfont: Font family 'san-serif' not found.\n",
      "findfont: Font family 'san-serif' not found.\n",
      "findfont: Font family 'san-serif' not found.\n",
      "findfont: Font family 'san-serif' not found.\n",
      "findfont: Font family 'san-serif' not found.\n",
      "findfont: Font family 'san-serif' not found.\n",
      "findfont: Font family 'san-serif' not found.\n"
     ]
    },
    {
     "data": {
      "image/png": "[encoded data removed]",
      "text/plain": [
       "<Figure size 2500x1000 with 2 Axes>"
      ]
     },
     "metadata": {},
     "output_type": "display_data"
    }
   ],
   "source": [
    "d = next(iter(dln_train))\n",
    "dq = next(iter(dlnq_train))\n",
    "\n",
    "# rough distribution of fixed-point DWT (weights and activations of filter quantized in each stage -> 4 stages) and floating-point DWT\n",
    "# one batch\n",
    "plt.figure(0,figsize=[25,10])\n",
    "ax1 = plt.subplot(1, 2, 1)\n",
    "plt.hist(d['data_in'][0].flatten(),range=(0.45,0.5),bins=1000);\n",
    "plt.hist(dq['data_in'][0].flatten(),range=(0.45,0.5),bins=1000);\n",
    "plt.grid()\n",
    "\n",
    "ax2 = plt.subplot(1, 2, 2)\n",
    "plt.hist(d['data_in'][0].flatten(),range=(0.45,0.5),bins=1000);\n",
    "plt.hist(dq['data_in'][0].flatten(),range=(0.45,0.5),bins=1000);\n",
    "plt.ylim([0, 35])\n",
    "plt.grid()"
   ]
  },
  {
   "cell_type": "code",
   "execution_count": 28,
   "id": "719fd3a6-246c-40c4-809a-858df2aaef52",
   "metadata": {},
   "outputs": [
    {
     "name": "stdout",
     "output_type": "stream",
     "text": [
      "<class 'float'>\n",
      "torch.float64\n",
      "tensor([-0.1294,  0.2241,  0.8365,  0.4830])\n",
      "tensor([-0.4830,  0.8365, -0.2241, -0.1294])\n",
      "torch.float64\n",
      "tensor([-0.1294,  0.2241,  0.8364,  0.4829])\n",
      "tensor([-0.4829,  0.8364, -0.2241, -0.1294])\n",
      "Lowpass Coefficient RMSE due to quantization: 5.4131825689739665e-05\n",
      "Highpass Coefficient RMSE due to quantization: 5.4131825689739665e-05\n"
     ]
    },
    {
     "data": {
      "text/plain": [
       "torch.float64"
      ]
     },
     "execution_count": 28,
     "metadata": {},
     "output_type": "execute_result"
    }
   ],
   "source": [
    "def q(x,b):\n",
    "    # no saturation!\n",
    "    result = torch.round(x * 2**b) / 2**b\n",
    "    return result \n",
    "\n",
    "db2wvlt = pywt.Wavelet('db2')\n",
    "# floating point values in python are stored as double precision values\n",
    "print(type(db2wvlt.dec_lo[0]))\n",
    "\n",
    "\n",
    "dlo_fp64 = np.array(db2wvlt.dec_lo,dtype=np.float64)\n",
    "dlo_fp64 = torch.from_numpy(dlo_fp64)\n",
    "dhi_fp64 = np.array(db2wvlt.dec_hi,dtype=np.float64)\n",
    "dhi_fp64 = torch.from_numpy(dhi_fp64)\n",
    "print(dlo_fp64.dtype)\n",
    "print(dlo_fp64)\n",
    "print(dhi_fp64)\n",
    "dlo = q(dlo_fp64,b)\n",
    "dhi = q(dhi_fp64,b)\n",
    "print(dlo.dtype)\n",
    "print(dlo)\n",
    "print(dhi)\n",
    "\n",
    "edlo_abs = torch.abs(dlo-dlo_fp64)\n",
    "edlo_rmse = torch.sqrt(torch.mean(edlo_abs**2))\n",
    "edhi_abs = torch.abs(dhi-dhi_fp64)\n",
    "edhi_rmse = torch.sqrt(torch.mean(edhi_abs**2))\n",
    "print(f'Lowpass Coefficient RMSE due to quantization: {edlo_rmse}')\n",
    "print(f'Highpass Coefficient RMSE due to quantization: {edhi_rmse}')\n",
    "torch.zeros((1,18000)).dtype"
   ]
  },
  {
   "cell_type": "code",
   "execution_count": 29,
   "id": "a6739e22-b4ec-4421-8923-6e70fcd2d470",
   "metadata": {},
   "outputs": [
    {
     "data": {
      "text/plain": [
       "0"
      ]
     },
     "execution_count": 29,
     "metadata": {},
     "output_type": "execute_result"
    }
   ],
   "source": [
    "# Test rounding fcn\n",
    "import math\n",
    "x = -0.5\n",
    "\n",
    "def round_halfup(x):\n",
    "    return math.ceil(math.floor(2*x)/2)\n",
    "\n",
    "test = round_halfup(x)\n",
    "test"
   ]
  }
 ],
 "metadata": {
  "kernelspec": {
   "display_name": "Python 3",
   "language": "python",
   "name": "python3"
  },
  "language_info": {
   "codemirror_mode": {
    "name": "ipython",
    "version": 3
   },
   "file_extension": ".py",
   "mimetype": "text/x-python",
   "name": "python",
   "nbconvert_exporter": "python",
   "pygments_lexer": "ipython3",
   "version": "3.11.2"
  },
  "toc-autonumbering": true,
  "toc-showmarkdowntxt": true,
  "vscode": {
   "interpreter": {
    "hash": "916dbcbb3f70747c44a77c7bcd40155683ae19c65e1c03b4aa3499c5328201f1"
   }
  }
 },
 "nbformat": 4,
 "nbformat_minor": 5
}
