{
 "cells": [
  {
   "cell_type": "code",
   "execution_count": 9,
   "id": "3616a688-33bc-4119-b645-b869b7df2a43",
   "metadata": {},
   "outputs": [],
   "source": [
    "#!/usr/bin/env python\n",
    "# coding: utf-8\n",
    "\n",
    "##### libraries\n",
    "## 3rd party\n",
    "from __future__ import print_function\n",
    "import pywt\n",
    "import math\n",
    "import numpy as np\n",
    "import matplotlib.pyplot as plt\n",
    "import copy\n",
    "import pdb\n",
    "import csv\n",
    "from tqdm import tqdm\n",
    "\n",
    "import torch\n",
    "import torch.nn as nn\n",
    "import torch.nn.functional as F\n",
    "import torch.optim as optim\n",
    "from torch.utils.data import Dataset, DataLoader\n",
    "torch.set_default_tensor_type(torch.DoubleTensor)\n",
    "\n",
    "# ignore package deprecation warnings\n",
    "import warnings\n",
    "warnings.filterwarnings(\"ignore\")\n",
    "\n",
    "## custom\n",
    "from utils.data_formatting import HDF5Dataset\n",
    "from utils.common import *"
   ]
  },
  {
   "cell_type": "code",
   "execution_count": 10,
   "id": "6e6cbc01-6dcb-46e8-844b-d486150f3413",
   "metadata": {},
   "outputs": [],
   "source": [
    "##### parameters\n",
    "val_fold = 4\n",
    "bs = 32"
   ]
  },
  {
   "cell_type": "code",
   "execution_count": 11,
   "id": "df7f1e96-95e8-4b1f-b02d-89b1a96fa169",
   "metadata": {},
   "outputs": [],
   "source": [
    "dset_train = CINC7Dataset('../data/custom/physionet2017_4classes.hdf5',train=True,transform=DWT(4))\n",
    "dset_val = CINC7Dataset('../data/custom/physionet2017_4classes.hdf5',train=False,transform=DWT(4))\n",
    "\n",
    "dl_train = DataLoader(dset_train, batch_size=bs, shuffle=False, num_workers=0)\n",
    "dl_val = DataLoader(dset_val, batch_size=bs, shuffle=False, num_workers=0)"
   ]
  },
  {
   "cell_type": "code",
   "execution_count": 12,
   "id": "4d2f4551-177f-43e8-8883-2e68cb580a2b",
   "metadata": {},
   "outputs": [
    {
     "data": {
      "text/plain": [
       "<All keys matched successfully>"
      ]
     },
     "execution_count": 12,
     "metadata": {},
     "output_type": "execute_result"
    }
   ],
   "source": [
    "##### main code\n",
    "# load networks\n",
    "model_path = f'snn_ref/model_fold{val_fold}.pt'\n",
    "cnn = WVCNN4()\n",
    "cnn.load_state_dict(torch.load(model_path).state_dict(), strict=False)\n",
    "cnn_bninteg = WVCNN4()\n",
    "cnn_bninteg.normed = True\n",
    "cnn_bninteg.load_state_dict(cnn.state_dict())"
   ]
  },
  {
   "cell_type": "code",
   "execution_count": 13,
   "id": "f54d09e0-81ef-4d2c-ae65-a901e2c114cd",
   "metadata": {},
   "outputs": [
    {
     "name": "stderr",
     "output_type": "stream",
     "text": [
      "100%|██████████| 8528/8528 [00:19<00:00, 426.80it/s]\n"
     ]
    }
   ],
   "source": [
    "#\"\"\"\n",
    "# import and format physionet data\n",
    "data_raw = HDF5Dataset('../data/custom/physionet2017_4classes.hdf5', True)\n",
    "\n",
    "# convert to slicable data\n",
    "ecgs = torch.empty(len(data_raw),18000)\n",
    "dwts = torch.empty(len(data_raw),2,1127)\n",
    "lbls = torch.empty(len(data_raw))\n",
    "for ii,data in enumerate(tqdm(data_raw)):\n",
    "    if len(data[0][0]) >= 18000:\n",
    "        data_in = data[0][:,0:18000]\n",
    "    else:\n",
    "        data_in = torch.zeros((1,18000))\n",
    "        data_in[0,0:len(data[0][0])] = data[0]\n",
    "    ecgs[ii,:] = data_in\n",
    "    dwt_tmp = pywt.wavedec(data_in,'db2',level=4)\n",
    "    dwts[ii,:,:] = torch.tensor(np.concatenate((dwt_tmp[0],dwt_tmp[1]),0))\n",
    "    lbls[ii] = data[1]\n",
    "#\"\"\""
   ]
  },
  {
   "cell_type": "code",
   "execution_count": 14,
   "id": "6d6be1fc-432e-45b2-b881-36e47a4415f2",
   "metadata": {},
   "outputs": [],
   "source": [
    "#\"\"\"\n",
    "# get train/test for normalization\n",
    "fold_idx = split_into_5folds(lbls)\n",
    "train_idx = (fold_idx!=val_fold)\n",
    "val_idx = (fold_idx==val_fold)\n",
    "\n",
    "dwt_val = dwts[val_idx].unsqueeze(1)\n",
    "dwt_train = dwts[train_idx].unsqueeze(1)\n",
    "\n",
    "lbl_val = lbls[val_idx].long()\n",
    "lbl_train = lbls[train_idx].long()\n",
    "#\"\"\""
   ]
  },
  {
   "cell_type": "code",
   "execution_count": 15,
   "id": "6423e71d-60d9-4654-9e9f-08690658d93a",
   "metadata": {},
   "outputs": [
    {
     "name": "stdout",
     "output_type": "stream",
     "text": [
      "<class 'float'>\n",
      "torch.float64\n",
      "tensor([-0.1294,  0.2241,  0.8365,  0.4830])\n",
      "tensor([-0.4830,  0.8365, -0.2241, -0.1294])\n",
      "torch.float64\n",
      "tensor([-0.1294,  0.2241,  0.8365,  0.4830])\n",
      "tensor([-0.4830,  0.8365, -0.2241, -0.1294])\n",
      "tensor(0.)\n",
      "tensor(0.)\n"
     ]
    },
    {
     "data": {
      "text/plain": [
       "torch.float64"
      ]
     },
     "execution_count": 15,
     "metadata": {},
     "output_type": "execute_result"
    }
   ],
   "source": [
    "b = 62\n",
    "\n",
    "def q(x,b):\n",
    "    # no saturation!\n",
    "    result = torch.round(x * 2**b) / 2**b\n",
    "    return result \n",
    "\n",
    "db2wvlt = pywt.Wavelet('db2')\n",
    "# floating point values in python are stored as double precision values\n",
    "print(type(db2wvlt.dec_lo[0]))\n",
    "\n",
    "\n",
    "dlo_fp64 = np.array(db2wvlt.dec_lo,dtype=np.float64)\n",
    "dlo_fp64 = torch.from_numpy(dlo_fp64)\n",
    "dhi_fp64 = np.array(db2wvlt.dec_hi,dtype=np.float64)\n",
    "dhi_fp64 = torch.from_numpy(dhi_fp64)\n",
    "print(dlo_fp64.dtype)\n",
    "print(dlo_fp64)\n",
    "print(dhi_fp64)\n",
    "dlo = q(dlo_fp64,b)\n",
    "dhi = q(dhi_fp64,b)\n",
    "print(dlo.dtype)\n",
    "print(dlo)\n",
    "print(dhi)\n",
    "\n",
    "edlo_abs = torch.abs(dlo-dlo_fp64)\n",
    "edlo_rmse = torch.sqrt(torch.mean(edlo_abs**2))\n",
    "edhi_abs = torch.abs(dhi-dhi_fp64)\n",
    "edhi_rmse = torch.sqrt(torch.mean(edhi_abs**2))\n",
    "print(edlo_rmse)\n",
    "print(edhi_rmse)\n",
    "torch.zeros((1,18000)).dtype"
   ]
  },
  {
   "cell_type": "code",
   "execution_count": 16,
   "id": "cc033660-0b94-4b5b-bf2a-07e681f93a47",
   "metadata": {},
   "outputs": [],
   "source": [
    "dwt_lvl=4\n",
    "\n",
    "db2wvlt = pywt.Wavelet('db2')\n",
    "dlo = q(torch.Tensor(db2wvlt.dec_lo),b)\n",
    "dhi = q(torch.Tensor(db2wvlt.dec_hi),b)\n",
    "din_q = q(ecgs,b)\n",
    "\n",
    "\n",
    "if (len(din_q.shape) == 1):\n",
    "    din_q = din_q.unsqueeze(0).unsqueeze(0)\n",
    "else:\n",
    "    din_q = din_q.unsqueeze(1)    \n",
    "\n",
    "dcoeff = torch.cat((dlo.flip(0).unsqueeze(0),dhi.flip(0).unsqueeze(0)),0).unsqueeze(1)\n",
    "\n",
    "dwt_tmp = []\n",
    "xin = din_q\n",
    "for ii in range(dwt_lvl):\n",
    "    coeff = F.conv1d(xin,dcoeff,padding='valid')\n",
    "    #pdb.set_trace()\n",
    "    coeffs = coeff[:,:,0::2]\n",
    "    coeffq = q(coeffs,b)\n",
    "\n",
    "    xin = coeffq[:,0:1,:]\n",
    "    \n",
    "    dwt_tmp = [coeffq[:,1:2,:]] + dwt_tmp \n",
    "\n",
    "\n",
    "dwts = coeffq\n",
    "#dwts_normed = coeffq * self.lmbda + self.dlta\n",
    "\n",
    "\n",
    "\n",
    "dwt_tmp2 = pywt.wavedec(data_in,'db2',level=dwt_lvl)\n",
    "dwts2 = torch.tensor(np.concatenate((dwt_tmp2[0],dwt_tmp2[1]),1).reshape((dwt_tmp2[0].shape[0],2,1127)))\n",
    "#dwts_normed = dwts * self.lmbda + self.dlta"
   ]
  },
  {
   "cell_type": "code",
   "execution_count": 17,
   "id": "075809c5-0b65-4b0d-85f7-b99a9e98429c",
   "metadata": {},
   "outputs": [
    {
     "name": "stdout",
     "output_type": "stream",
     "text": [
      "tensor([[[-0.3789222866689697, -0.5280587494520761, -0.6125757266505413,\n",
      "           ...,  0.0000000000000000,  0.0000000000000000,\n",
      "           0.0000000000000000]]])\n",
      "tensor([[[-0.8283945583940165, -0.8802224679852876, -0.8298870670433200,\n",
      "           ...,  0.0000000000000000,  0.0000000000000000,\n",
      "           0.0000000000000000]]])\n",
      "tensor([[[-1.2217629776138441, -1.1300250905552371, -0.8820119697674462,\n",
      "           ...,  0.0000000000000000,  0.0000000000000000,\n",
      "           0.0000000000000000]]])\n",
      "tensor([[[-1.6466345070674784, -1.0158996906375446, -1.0924075096805570,\n",
      "           ...,  0.0000000000000000,  0.0000000000000000,\n",
      "           0.0000000000000000]]])\n"
     ]
    }
   ],
   "source": [
    "coeff = F.conv1d(data_in.unsqueeze(0),dcoeff,padding='valid')\n",
    "coeffs = coeff[:,:,0::2]\n",
    "coeff2 = F.conv1d(coeffs[:,0:1,:],dcoeff,padding='valid')\n",
    "coeffs2 = coeff2[:,:,1::2]\n",
    "coeff3 = F.conv1d(coeffs2[:,0:1,:],dcoeff,padding='valid')\n",
    "coeffs3 = coeff3[:,:,0::2]\n",
    "coeff4 = F.conv1d(coeffs3[:,0:1,:],dcoeff,padding='valid')\n",
    "coeffs4 = coeff4[:,:,0::2]\n",
    "\n",
    "torch.set_printoptions(precision=16)\n",
    "print(coeffs[:,0:1,:])\n",
    "print(coeffs2[:,0:1,:])\n",
    "print(coeffs3[:,0:1,:])\n",
    "print(coeffs4[:,0:1,:])"
   ]
  },
  {
   "cell_type": "code",
   "execution_count": 18,
   "id": "f9209c72-8df7-4d2a-8095-be18c713d6c1",
   "metadata": {},
   "outputs": [
    {
     "data": {
      "text/plain": [
       "array([-0.35251759, -0.37892229, -0.52805875, -0.61257573, -0.62906239,\n",
       "       -0.61872026, -0.59751339, -0.58025005, -0.56243327])"
      ]
     },
     "execution_count": 18,
     "metadata": {},
     "output_type": "execute_result"
    }
   ],
   "source": [
    "tmp = pywt.wavedec(data_in,'db2',level=1)\n",
    "tmp[0][0,0:9]"
   ]
  },
  {
   "cell_type": "code",
   "execution_count": 19,
   "id": "e533caff-88df-453f-b72d-675a12714f65",
   "metadata": {},
   "outputs": [
    {
     "data": {
      "text/plain": [
       "array([-0.50787063, -0.52631559, -0.82839456, -0.88022247, -0.82988707,\n",
       "       -0.77780531, -0.69275403, -0.59271511, -0.49676922])"
      ]
     },
     "execution_count": 19,
     "metadata": {},
     "output_type": "execute_result"
    }
   ],
   "source": [
    "tmp = pywt.wavedec(data_in,'db2',level=2)\n",
    "tmp[0][0,0:9]"
   ]
  },
  {
   "cell_type": "code",
   "execution_count": 20,
   "id": "69ec217e-1e42-41b5-b5fb-b478c42b046a",
   "metadata": {},
   "outputs": [
    {
     "data": {
      "text/plain": [
       "array([-0.72475881, -0.75732464, -1.22176298, -1.13002509, -0.88201197,\n",
       "       -0.66775369, -0.6203374 , -0.83232711, -1.09599978])"
      ]
     },
     "execution_count": 20,
     "metadata": {},
     "output_type": "execute_result"
    }
   ],
   "source": [
    "tmp = pywt.wavedec(data_in,'db2',level=3)\n",
    "tmp[0][0,0:9]"
   ]
  },
  {
   "cell_type": "code",
   "execution_count": 21,
   "id": "e83e4efe-7a19-4ebc-8763-5dd04eb89beb",
   "metadata": {},
   "outputs": [
    {
     "data": {
      "text/plain": [
       "array([-1.0364775 , -1.11116071, -1.64663451, -1.01589969, -1.09240751,\n",
       "       -1.60833762, -1.51961904, -1.3363575 , -1.30799303])"
      ]
     },
     "execution_count": 21,
     "metadata": {},
     "output_type": "execute_result"
    }
   ],
   "source": [
    "tmp = pywt.wavedec(data_in,'db2',level=4)\n",
    "tmp[0][0,0:9]"
   ]
  }
 ],
 "metadata": {
  "kernelspec": {
   "display_name": "Python 3 (ipykernel)",
   "language": "python",
   "name": "python3"
  },
  "language_info": {
   "codemirror_mode": {
    "name": "ipython",
    "version": 3
   },
   "file_extension": ".py",
   "mimetype": "text/x-python",
   "name": "python",
   "nbconvert_exporter": "python",
   "pygments_lexer": "ipython3",
   "version": "3.11.2"
  }
 },
 "nbformat": 4,
 "nbformat_minor": 5
}
